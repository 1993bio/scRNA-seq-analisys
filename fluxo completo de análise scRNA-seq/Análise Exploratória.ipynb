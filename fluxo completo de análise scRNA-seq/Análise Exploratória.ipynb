{
 "cells": [
  {
   "cell_type": "code",
   "execution_count": null,
   "id": "27d6739a",
   "metadata": {},
   "outputs": [],
   "source": [
    "import numpy as np\n",
    "import pandas as pd\n",
    "import scanpy as sc\n",
    "import matplotlib.pyplot as plt\n",
    "import anndata"
   ]
  },
  {
   "cell_type": "code",
   "execution_count": null,
   "id": "697f18db",
   "metadata": {},
   "outputs": [],
   "source": [
    "# definindo os parametros globais de qualidade do SCANPY\n",
    "sc.settings.verbosity = 2  # verbosity: erro (0) perigo (1), info (2), dicas (3)\n",
    "sc.settings.n_jobs = 8 #numero de nucleos utilizado no processamento paralelo (+ core, mais rapido os calculos serão realizados)"
   ]
  },
  {
   "cell_type": "code",
   "execution_count": null,
   "id": "7407487e",
   "metadata": {},
   "outputs": [],
   "source": [
    "# lendo os dados de single cell no formato h5ad\n",
    "adata = sc.read_h5ad('GSE163426_Artik_AnnData_041221_Pos_LogNorm_QCFiltered.h5ad')"
   ]
  },
  {
   "cell_type": "code",
   "execution_count": null,
   "id": "adc08b5f",
   "metadata": {},
   "outputs": [],
   "source": [
    "adata"
   ]
  },
  {
   "cell_type": "code",
   "execution_count": null,
   "id": "aeed5fa7",
   "metadata": {},
   "outputs": [],
   "source": [
    "#Verificando o tipo e o numero de células\n",
    "ncell=adata.obs[['']].value_counts()\n",
    "#ncell.to_excel(\"ncell.xlsx\") # exportando os dados em planilhas excell\n",
    "ncell"
   ]
  },
  {
   "cell_type": "code",
   "execution_count": null,
   "id": "c966c4e7",
   "metadata": {},
   "outputs": [],
   "source": [
    "# verificando a coorte e os numeros de individuos em cada tipo\n",
    "coorte=adata.obs[['sex']].value_counts()\n",
    "coorte.to_excel(\"coorte.xlsx\")\n",
    "coorte"
   ]
  },
  {
   "cell_type": "code",
   "execution_count": null,
   "id": "70945bf1",
   "metadata": {},
   "outputs": [],
   "source": [
    "#verificando o numero de individuos infectados\n",
    "status=adata.obs[['disease']].value_counts()\n",
    "status.to_excel(\"status.xlsx\")\n",
    "status"
   ]
  },
  {
   "cell_type": "code",
   "execution_count": null,
   "id": "b8d8150c",
   "metadata": {},
   "outputs": [],
   "source": [
    "#Verificando o numero de pacientes em cada nivel sintmatico de clasificação WHO ou indice de severidade do covid-19\n",
    "groups=adata.obs[['severity']].value_counts()\n",
    "groups.to_excel(\"groups.xlsx\")\n",
    "groups"
   ]
  },
  {
   "cell_type": "code",
   "execution_count": null,
   "id": "2e396493",
   "metadata": {},
   "outputs": [],
   "source": []
  },
  {
   "cell_type": "code",
   "execution_count": null,
   "id": "cbc901ba",
   "metadata": {},
   "outputs": [],
   "source": [
    "#verificando a idade dos participantes do estudo\n",
    "#AGE = adata.obs[['age']].value_counts()\n",
    "#AGE.to_excel(\"AGE.xlsx\")\n",
    "#AGE"
   ]
  },
  {
   "cell_type": "code",
   "execution_count": null,
   "id": "338c50ca",
   "metadata": {},
   "outputs": [],
   "source": [
    "#sample_location = adata.obs[['Sample_location']].value_counts()\n",
    "#sample_location.to_excel(\"sample_location.xlsx\")\n",
    "#sample_location"
   ]
  },
  {
   "cell_type": "markdown",
   "id": "fd98c78d",
   "metadata": {},
   "source": [
    "# verificando o numero de genes mitocondriais \n"
   ]
  },
  {
   "cell_type": "code",
   "execution_count": null,
   "id": "742686d3",
   "metadata": {},
   "outputs": [],
   "source": [
    "#Células de baixa qualidade / morrendo frequentemente exibem contaminação mitocondrial extensa\n",
    "#Células de baixa qualidade ou gotículas vazias geralmente têm poucos genes\n",
    "#Dupletos ou multipletos de células podem exibir uma contagem de genes aberrantemente alta\n",
    "# abaixo podemos verificar essas porcentagens\n",
    "adata.var['mt'] = adata.var_names.str.startswith('MT-')  # anotar o grupo de genes mitocondriais como 'mt'\n",
    "sc.pp.calculate_qc_metrics(adata, qc_vars=['mt'], percent_top=None, log1p=True, inplace=True)"
   ]
  },
  {
   "cell_type": "code",
   "execution_count": null,
   "id": "16e7a0a8",
   "metadata": {},
   "outputs": [],
   "source": [
    "sc.pl.violin(adata, ['n_genes_by_counts', 'total_counts', 'pct_counts_mt'],jitter=0.4, multi_panel=True)"
   ]
  },
  {
   "cell_type": "code",
   "execution_count": null,
   "id": "04488adb",
   "metadata": {},
   "outputs": [],
   "source": []
  },
  {
   "cell_type": "code",
   "execution_count": null,
   "id": "b04401dc",
   "metadata": {},
   "outputs": [],
   "source": []
  },
  {
   "cell_type": "code",
   "execution_count": null,
   "id": "7be33fe1",
   "metadata": {},
   "outputs": [],
   "source": []
  }
 ],
 "metadata": {
  "kernelspec": {
   "display_name": "Python 3 (ipykernel)",
   "language": "python",
   "name": "python3"
  },
  "language_info": {
   "codemirror_mode": {
    "name": "ipython",
    "version": 3
   },
   "file_extension": ".py",
   "mimetype": "text/x-python",
   "name": "python",
   "nbconvert_exporter": "python",
   "pygments_lexer": "ipython3",
   "version": "3.10.2"
  }
 },
 "nbformat": 4,
 "nbformat_minor": 5
}
