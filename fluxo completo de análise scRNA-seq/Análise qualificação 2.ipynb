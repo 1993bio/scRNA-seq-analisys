{
 "cells": [
  {
   "cell_type": "code",
   "execution_count": null,
   "id": "029f2f7f",
   "metadata": {},
   "outputs": [],
   "source": [
    "import numpy as np\n",
    "import pandas as pd\n",
    "import scanpy as sc\n",
    "import matplotlib.pyplot as plt\n",
    "import anndata"
   ]
  },
  {
   "cell_type": "code",
   "execution_count": null,
   "id": "0a27f94d",
   "metadata": {},
   "outputs": [],
   "source": [
    "# definindo os parametros globais de qualidade do SCANPY\n",
    "sc.settings.verbosity = 2  # verbosity: erro (0) perigo (1), info (2), dicas (3)\n",
    "sc.settings.set_figure_params(dpi=600, dpi_save=600, format ='svg',) #qualidade das imagens para 700 DPI (alta resolução)\n",
    "sc.settings.n_jobs = 8 #numero de nucleos utilizado no processamento paralelo (+ core, mais rapido os calculos serão realizados)"
   ]
  },
  {
   "cell_type": "code",
   "execution_count": null,
   "id": "7ce61aff",
   "metadata": {},
   "outputs": [],
   "source": [
    "# lendo os dados de single cell no formato h5ad\n",
    "adata = sc.read_h5ad('shalek_nasal.h5a')"
   ]
  },
  {
   "cell_type": "code",
   "execution_count": null,
   "id": "7aaeffb8",
   "metadata": {},
   "outputs": [],
   "source": [
    "adata"
   ]
  },
  {
   "cell_type": "markdown",
   "id": "db0067f3",
   "metadata": {},
   "source": [
    "# Análise exploratória dos dados"
   ]
  },
  {
   "cell_type": "code",
   "execution_count": null,
   "id": "35f34eff",
   "metadata": {},
   "outputs": [],
   "source": [
    "#Verificando o tipo e o numero de células\n",
    "ncell_1=adata.obs[['Annotation']].value_counts()\n",
    "ncell_1\n",
    "#ncell_1.to_excel(\"ncell_1.xlsx\")"
   ]
  },
  {
   "cell_type": "code",
   "execution_count": null,
   "id": "1ff7ba0d",
   "metadata": {},
   "outputs": [],
   "source": [
    "#observado subgrupos de células\n",
    "ncell_2=adata.obs[['Detailed_Cell_Annotations']].value_counts()\n",
    "ncell_2\n",
    "#ncell_2.to_excel(\"ncell_2.xlsx\")"
   ]
  },
  {
   "cell_type": "code",
   "execution_count": null,
   "id": "8442798a",
   "metadata": {},
   "outputs": [],
   "source": [
    "# verificando a coorte e os numeros de individuos em cada tipo\n",
    "coorte=adata.obs[['sex']].value_counts()\n",
    "coorte\n",
    "#coorte.to_excel(\"coorte.xlsx\")"
   ]
  },
  {
   "cell_type": "code",
   "execution_count": null,
   "id": "ece9c103",
   "metadata": {},
   "outputs": [],
   "source": [
    "#verificando o numero de individuos infectados\n",
    "status=adata.obs[['SARSCoV2_PCR_Status']].value_counts()\n",
    "status\n",
    "#status.to_excel(\"status.xlsx\")"
   ]
  },
  {
   "cell_type": "code",
   "execution_count": null,
   "id": "68fed5c6",
   "metadata": {},
   "outputs": [],
   "source": [
    "#Verificando o numero de pacientes em cada nivel sintmatico de clasificação WHO\n",
    "groups=adata.obs[['Cohort_Disease_WHO_Score']].value_counts()\n",
    "groups\n",
    "#groups.to_excel(\"groups.xlsx\")"
   ]
  },
  {
   "cell_type": "markdown",
   "id": "5f83f308",
   "metadata": {},
   "source": [
    "# Pre-processamento dos dados"
   ]
  },
  {
   "cell_type": "code",
   "execution_count": null,
   "id": "0fe2ac62",
   "metadata": {},
   "outputs": [],
   "source": [
    "#verificando os genes que geram maior fração de contagens em cada célula ou em todas as células\n",
    "sc.pl.highest_expr_genes(adata, n_top=10, )\n"
   ]
  },
  {
   "cell_type": "code",
   "execution_count": null,
   "id": "d989c19b",
   "metadata": {},
   "outputs": [],
   "source": [
    "# filtrando células que tenham no minimo 200 genes expressos\n",
    "sc.pp.filter_cells(adata, min_genes=200)"
   ]
  },
  {
   "cell_type": "code",
   "execution_count": null,
   "id": "ae6d0fab",
   "metadata": {},
   "outputs": [],
   "source": [
    "# filtrando genes que são detectados em menos de 3 células \n",
    "sc.pp.filter_genes(adata, min_cells=3)"
   ]
  },
  {
   "cell_type": "code",
   "execution_count": null,
   "id": "99cac5fc",
   "metadata": {},
   "outputs": [],
   "source": [
    "adata # visualizando os dados"
   ]
  },
  {
   "cell_type": "markdown",
   "id": "c4ab712d",
   "metadata": {},
   "source": [
    "verificando o número de variáveis.\n",
    "antes tinhamos --> AnnData object with n_obs × n_vars = 32588 × 32871 (genes x Células).\n",
    "agora temos ---> AnnData object with n_obs × n_vars = 31736 × 30214 (genes x células).\n",
    "então filtramos um total de 852 genes, e 2657 células."
   ]
  },
  {
   "cell_type": "code",
   "execution_count": null,
   "id": "abfe8af8",
   "metadata": {},
   "outputs": [],
   "source": [
    "# verificando a quantidade de células após a filtragem, pode acontecer de um cluster inteiro desaparecer, para este estudo.\n",
    "filter_ncell=adata.obs[['Annotation']].value_counts()\n",
    "filter_ncell\n",
    "#filter_ncell.to_excel(\"filter_ncell.xlsx\")"
   ]
  },
  {
   "cell_type": "code",
   "execution_count": null,
   "id": "3e984c7b",
   "metadata": {},
   "outputs": [],
   "source": [
    "#Células de baixa qualidade / morrendo frequentemente exibem contaminação mitocondrial extensa\n",
    "#Células de baixa qualidade ou gotículas vazias geralmente têm poucos genes\n",
    "#Dupletos ou multipletos de células podem exibir uma contagem de genes aberrantemente alta\n",
    "# abaixo podemos verificar essas porcentagens\n",
    "adata.var['mt'] = adata.var_names.str.startswith('MT-')  # anotar o grupo de genes mitocondriais como 'mt'\n",
    "sc.pp.calculate_qc_metrics(adata, qc_vars=['mt'], percent_top=None, log1p=False, inplace=True)"
   ]
  },
  {
   "cell_type": "code",
   "execution_count": null,
   "id": "055b43c2",
   "metadata": {},
   "outputs": [],
   "source": [
    "# visualizando as procentagens em grafico de violino, isso permite verificar a variação de contagens, para uma proxima filtragem\n",
    "sc.pl.violin(adata, ['n_genes_by_counts', 'total_counts', 'pct_counts_mt'],\n",
    "             jitter=0.4, multi_panel=True)"
   ]
  },
  {
   "cell_type": "markdown",
   "id": "fcfc22b4",
   "metadata": {},
   "source": [
    "Em \"numero de genes por contagens\" observamos que estão com mais de 8000 contagens em relação a contagens totais, isso pode ser ocasionado por dupletos ou multipletos que amplifica a contagem de genes.\n",
    "observamos também a contagem de genes mitocondriais, que esta maior que 10 em algumas células, estas podem ser removidos das porcentagens, porque provavelmente pode ser derivado de viés de bancada/ (células mortas)"
   ]
  },
  {
   "cell_type": "code",
   "execution_count": null,
   "id": "0e50e8dd",
   "metadata": {},
   "outputs": [],
   "source": [
    "# verificar na escala para delimitar um corte para o proximo filtro\n",
    "sc.pl.scatter(adata, x='total_counts', y='pct_counts_mt')\n",
    "sc.pl.scatter(adata, x='total_counts', y='n_genes_by_counts')"
   ]
  },
  {
   "cell_type": "code",
   "execution_count": null,
   "id": "1df0ce41",
   "metadata": {},
   "outputs": [],
   "source": [
    "#Filtragem para tirar genes com altas contagens (baseado nas observações dos graficos logo acima)\n",
    "adata = adata[adata.obs.n_genes_by_counts < 6000, :]\n",
    "adata = adata[adata.obs.pct_counts_mt < 7, :]"
   ]
  },
  {
   "cell_type": "code",
   "execution_count": null,
   "id": "c996dd8c",
   "metadata": {},
   "outputs": [],
   "source": [
    "# verificando novamente as contagens baseadas no filtro acima, podemos obervar que funcionou como esperado.\n",
    "sc.pl.violin(adata, ['n_genes_by_counts', 'total_counts', 'pct_counts_mt'],\n",
    "             jitter=0.4, multi_panel=True)"
   ]
  },
  {
   "cell_type": "code",
   "execution_count": null,
   "id": "360cbc64",
   "metadata": {},
   "outputs": [],
   "source": [
    "# etapa demorada, descomentar e utilizar se necessario!\n",
    "# verificando se as contagens estão normalizadas\n",
    "# podemos extrais a matriz de contagens do anndata e verificar com cuidado em um arquivo .csv\n",
    "#t=adata.raw.X.toarray()\n",
    "#pd.DataFrame(data=t, index=adata.obs_names, columns=adata.raw.var_names).to_csv('adata_raw_x.csv')"
   ]
  },
  {
   "cell_type": "code",
   "execution_count": null,
   "id": "32ff7430",
   "metadata": {},
   "outputs": [],
   "source": [
    "#Depois de remover células indesejadas do conjunto de dados, a próxima etapa é normalizar os dados\n",
    "#Por padrão empregamos um método de normalização de escala global \" normalize_total\" que normaliza as medidas\n",
    "#de expressão de recurosos para cada célula pela expressão totol, multiplica isso por um fator de (10.000 por padrão)\n",
    "# ou pelo tamanho da biblioteca ( consultar grafico de violino acima para total counts) e depois\n",
    "#tranformamos para log o resultado da normalização."
   ]
  },
  {
   "cell_type": "code",
   "execution_count": null,
   "id": "2e02362d",
   "metadata": {},
   "outputs": [],
   "source": [
    "# normalizando a contagem total para 10.000 de modo que as contagens se tornem compareveis entre as células\n",
    "sc.pp.normalize_total(adata, target_sum=1e6)"
   ]
  },
  {
   "cell_type": "code",
   "execution_count": null,
   "id": "235cda25",
   "metadata": {},
   "outputs": [],
   "source": [
    "# logaritmizando os dados\n",
    "sc.pp.log1p(adata)\n"
   ]
  },
  {
   "cell_type": "code",
   "execution_count": null,
   "id": "35fd77f8",
   "metadata": {},
   "outputs": [],
   "source": [
    "# identificação de genes altamente variaveis\n",
    "# obs: para salvar a lista existe o consumo de muita memoria, \n",
    "#então criar somente o objeto dentro do andata pode ser a melhor opção para uso posterior\n"
   ]
  },
  {
   "cell_type": "markdown",
   "id": "c9efff29",
   "metadata": {},
   "source": [
    "Em seguida, calculamos um subconjunto de recursos que exibem alta variação de célula para célula no conjunto de dados (ou seja, eles são altamente expressos em algumas células e pouco expressos em outras). (Heisler M. et al 2013) descobriram que focar nesses genes na análise downstream ajuda a destacar o sinal biológico em conjuntos de dados de uma única célula.\n",
    "consultar ---> https://www.nature.com/articles/nmeth.2645"
   ]
  },
  {
   "cell_type": "code",
   "execution_count": null,
   "id": "e92be029",
   "metadata": {},
   "outputs": [],
   "source": [
    "#identificndo os genes altamente variaveis e anotando em um objeto anndata para consultas posteriores\n",
    "sc.pp.highly_variable_genes(adata, min_mean=0.0125, max_mean=3, min_disp=0.5 )\n"
   ]
  },
  {
   "cell_type": "code",
   "execution_count": null,
   "id": "cf94c28e",
   "metadata": {},
   "outputs": [],
   "source": [
    "#plotando os genes altamente variaveis e não altamente variaveis\n",
    "sc.pl.highly_variable_genes(adata)\n"
   ]
  },
  {
   "cell_type": "code",
   "execution_count": null,
   "id": "59b660de",
   "metadata": {},
   "outputs": [],
   "source": [
    "adata # apenas para vaerificar a criaçãos dos objetos no anndata \n"
   ]
  },
  {
   "cell_type": "code",
   "execution_count": null,
   "id": "bf48a081",
   "metadata": {},
   "outputs": [],
   "source": [
    "# código para extrair a matriz de genes altamente variaveis (demora e consome muita memoria)\n",
    "#v_gen=adata.raw.to_adata()\n",
    "#pd.DataFrame(data=v_gen, index=adata.obs_names, columns=adata.var.highly_variable).to_csv('genes_altamente_variaveis.csv', sep =',')"
   ]
  },
  {
   "cell_type": "code",
   "execution_count": null,
   "id": "a14ce10b",
   "metadata": {},
   "outputs": [],
   "source": [
    "# Agora aplicamos uma trasnformação linear (\"dimensionamento\") que é uma etapa de pré-processamento padrão antes de esecutar\n",
    "#as tecnicas de redução de dimencionalidade como PCA, UMAP,TSNE...\n",
    "#(muda a expresão de cada gene, de modo que a expressao media nas células seja 0)\n",
    "#(dimensiona a expressão de cada gene de modo que a variancia entre as células seja 1) --> esta etapa da peso igual nas analises Downstream, \n",
    "#de modo que genes altamente expressos não dominem o resultado.\n"
   ]
  },
  {
   "cell_type": "code",
   "execution_count": null,
   "id": "5cc8ae3f",
   "metadata": {},
   "outputs": [],
   "source": [
    "# Regressar os efeitos de contagem total por célula e a porcentagem de genes mitocondriais expresso.Dimencione os dados de acordo com a variação de unidade.\n",
    "sc.pp.regress_out(adata, ['total_counts', 'pct_counts_mt'])"
   ]
  },
  {
   "cell_type": "code",
   "execution_count": null,
   "id": "9cfe8dbe",
   "metadata": {},
   "outputs": [],
   "source": [
    "#Dimensione cada gene de acordo com a variância unitária. Os valores do clipe excedem o desvio padrão 10.\n",
    "sc.pp.scale(adata, max_value=10)"
   ]
  },
  {
   "cell_type": "markdown",
   "id": "a8c65164",
   "metadata": {},
   "source": [
    "# Expressão diferencial de Genes"
   ]
  },
  {
   "cell_type": "markdown",
   "id": "a3927ee9",
   "metadata": {},
   "source": [
    "Apartir daqui não iremos abordar a descoberta de novas células. Para a desberta de células um outro fluxo de trabalho deriva neste ponto, utilizando de genes marcadores de células e agrupamento n supervisionado. Após sua anotação de novos grupos de células vc poderá começar deste ponto novamente.\n",
    "OBS: Ao verificar as anotações você poderá pensar em como realizar sua analise de genes diferencialmente expressos, podendo ser entre os grupos de células, condição da coorte, sexo, habitos..."
   ]
  },
  {
   "cell_type": "code",
   "execution_count": null,
   "id": "5b0d03ea",
   "metadata": {},
   "outputs": [],
   "source": [
    "#Grupos a serem testados na expressão diferencial\n",
    "coorte"
   ]
  },
  {
   "cell_type": "code",
   "execution_count": null,
   "id": "bc9ebc25",
   "metadata": {},
   "outputs": [],
   "source": [
    "#realizando a analise de genes diferencialmente expressos entre os grupos\n",
    "sc.tl.rank_genes_groups(adata, 'sex', groups=['male'], \n",
    "    reference='female', method='t-test',corr_method ='benjamini-hochberg', key_added = 'DEG_male_vs_female')"
   ]
  },
  {
   "cell_type": "code",
   "execution_count": null,
   "id": "904972b2",
   "metadata": {},
   "outputs": [],
   "source": [
    "# extraindo a tabela de genes diferencialmene expressos\n",
    "tab_dif = sc.get.rank_genes_groups_df(adata, key = \"DEG_pos_vs_neg\",group= None) #tabela total de DEGs\n",
    "tab_dif_2 = sc.get.rank_genes_groups_df(adata, key = \"DEG_pos_vs_neg\",group= None, pval_cutoff = 0.001 , log2fc_min = -5.0 , log2fc_max = 5.0) #cut of seleciona oas genes masi significativos dentro do grupo <0.001"
   ]
  },
  {
   "cell_type": "code",
   "execution_count": null,
   "id": "cccd7d25",
   "metadata": {},
   "outputs": [],
   "source": [
    "# mostrando os resultados\n",
    "#tab_dif_2\n",
    "tab_dif"
   ]
  },
  {
   "cell_type": "code",
   "execution_count": null,
   "id": "8e5925d2",
   "metadata": {},
   "outputs": [],
   "source": [
    "#escrevendo os resultados em uma tabela do excel\n",
    "tab_dif.to_csv(\"lista_DEG_pos_vs_neg_total.csv\", sep=',')\n",
    "#tab_dif_2.to_excel(\"lista_DEG_male_vs_female_filtrada_.xlsx\")\n",
    "tab_dif_2.to_csv(\"lista_DEG_pos_vs_neg_filtrada.csv\",sep=',')"
   ]
  },
  {
   "cell_type": "code",
   "execution_count": null,
   "id": "2b9b0d15",
   "metadata": {},
   "outputs": [],
   "source": [
    "#criando um novo check point para salvar todos osbjetos criado e em seguida aprimorar os detalhes\n",
    "adata.write_h5ad('dados_shalek_processados_com_DEGs.h5ad')"
   ]
  },
  {
   "cell_type": "markdown",
   "id": "165b73e5",
   "metadata": {},
   "source": [
    "# Visualizando os dados em um grafico de vulcão"
   ]
  },
  {
   "cell_type": "code",
   "execution_count": null,
   "id": "53db4678",
   "metadata": {},
   "outputs": [],
   "source": [
    "# importanto a biblioteca de visualizão de graficos para dados biologicos\n",
    "from bioinfokit import analys, visuz\n"
   ]
  },
  {
   "cell_type": "code",
   "execution_count": null,
   "id": "2b4f8fa0",
   "metadata": {},
   "outputs": [],
   "source": [
    "#montando o volcano plot\n",
    "visuz.GeneExpression.volcano(df=tab_dif_2, lfc=\"logfoldchanges\", pv=\"pvals\",gstyle=1, sign_line=True,plotlegend=True, legendpos='upper right', \n",
    "    legendanchor=(1.46,1), lfc_thr=(0.5, 0.5), pv_thr=(0.001, 0.001), geneid=\"names\",xlm=None, ylm=None,r=300,dotsize= 1.5,axylabel='FDR',color=('#0000CD','#A4A4A4','#FF3030'),valpha=0.5)"
   ]
  },
  {
   "cell_type": "code",
   "execution_count": null,
   "id": "242a0f2e",
   "metadata": {},
   "outputs": [],
   "source": []
  },
  {
   "cell_type": "code",
   "execution_count": null,
   "id": "c149e414",
   "metadata": {},
   "outputs": [],
   "source": []
  },
  {
   "cell_type": "code",
   "execution_count": null,
   "id": "b5ffa406",
   "metadata": {},
   "outputs": [],
   "source": []
  },
  {
   "cell_type": "code",
   "execution_count": null,
   "id": "1fb679e4",
   "metadata": {},
   "outputs": [],
   "source": []
  },
  {
   "cell_type": "code",
   "execution_count": null,
   "id": "e7a5757d",
   "metadata": {},
   "outputs": [],
   "source": []
  }
 ],
 "metadata": {
  "kernelspec": {
   "display_name": "Python 3 (ipykernel)",
   "language": "python",
   "name": "python3"
  },
  "language_info": {
   "codemirror_mode": {
    "name": "ipython",
    "version": 3
   },
   "file_extension": ".py",
   "mimetype": "text/x-python",
   "name": "python",
   "nbconvert_exporter": "python",
   "pygments_lexer": "ipython3",
   "version": "3.10.2"
  }
 },
 "nbformat": 4,
 "nbformat_minor": 5
}
