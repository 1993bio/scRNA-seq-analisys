{
 "cells": [
  {
   "cell_type": "code",
   "execution_count": null,
   "id": "6b999090",
   "metadata": {},
   "outputs": [],
   "source": [
    "import scanpy as sc\n",
    "import matplotlib.pyplot as plt\n",
    "import pandas as pd\n",
    "import numpy as np\n",
    "from scipy.stats import ttest_ind # importando uma biblioteca estatistica do scipy\n",
    "from multiprocessing import Pool\n",
    "import warnings\n",
    "import gseapy as gp\n",
    "from gseapy.plot import barplot, dotplot\n",
    "warnings.filterwarnings(\"ignore\")\n",
    "sc.settings.verbosity = 3             \n",
    "sc.logging.print_header()"
   ]
  },
  {
   "cell_type": "code",
   "execution_count": null,
   "id": "0ac9f514",
   "metadata": {},
   "outputs": [],
   "source": [
    "#names_banco_de_dados = gp.get_library_name()\n",
    "#print(names_banco_de_dados)"
   ]
  },
  {
   "cell_type": "code",
   "execution_count": null,
   "id": "1d1ccf9e",
   "metadata": {},
   "outputs": [],
   "source": [
    "df = pd.read_csv('DEGS_feminino_WHO_6-8_vs_Ctrl - Copia.csv', sep= ',', index_col = 0)\n",
    "df"
   ]
  },
  {
   "cell_type": "code",
   "execution_count": null,
   "id": "1b5a9f48",
   "metadata": {},
   "outputs": [],
   "source": [
    "#del df['Unnamed: 0']"
   ]
  },
  {
   "cell_type": "code",
   "execution_count": null,
   "id": "9231a54e",
   "metadata": {},
   "outputs": [],
   "source": [
    "\n"
   ]
  },
  {
   "cell_type": "code",
   "execution_count": null,
   "id": "c59083ac",
   "metadata": {},
   "outputs": [],
   "source": []
  },
  {
   "cell_type": "code",
   "execution_count": null,
   "id": "9b7c5d55",
   "metadata": {},
   "outputs": [],
   "source": [
    "# selecionando os genes up regulados\n",
    "DEGs_up = (df[(df['logfoldchanges'] > 1.5) & (df['pvals_adj'] < 0.05)]).index.tolist()"
   ]
  },
  {
   "cell_type": "code",
   "execution_count": null,
   "id": "020e9662",
   "metadata": {},
   "outputs": [],
   "source": [
    "# convertendo lista de genes em um dataframe com up e doen\n",
    "genes_up = pd.DataFrame(list(zip(DEGs_up)), columns = ['Up_regulated'])\n",
    "genes_up"
   ]
  },
  {
   "cell_type": "code",
   "execution_count": null,
   "id": "9e3427a3",
   "metadata": {},
   "outputs": [],
   "source": [
    "#Exportando os genes up para uma tabela excel para uso posterior\n",
    "genes_up.to_excel(\"GENES_UP_6-8_vs_ctrl.xlsx\") # mudar o nome de acordo com a comparação e salvar"
   ]
  },
  {
   "cell_type": "code",
   "execution_count": null,
   "id": "32f303e7",
   "metadata": {},
   "outputs": [],
   "source": [
    "# selecionando os genes Down regulados\n",
    "DEGs_down = (df[(df['logfoldchanges'] < -1.5) & (df['pvals_adj'] < 0.05)]).index.tolist()"
   ]
  },
  {
   "cell_type": "code",
   "execution_count": null,
   "id": "a566a4b3",
   "metadata": {},
   "outputs": [],
   "source": [
    "genes_down = pd.DataFrame(list(zip(DEGs_down)), columns = ['Down_regulated'])\n",
    "genes_down"
   ]
  },
  {
   "cell_type": "code",
   "execution_count": null,
   "id": "28cc6a34",
   "metadata": {},
   "outputs": [],
   "source": [
    "#Exportando os genes down para uma tabela excel para uso posterior\n",
    "genes_down.to_excel(\"GENES_Down_6-8_vs_ctrl.xlsx\") # mudar o nome de acordo com a comparação e salvar"
   ]
  },
  {
   "cell_type": "markdown",
   "id": "af72fdc2",
   "metadata": {},
   "source": [
    "# enriquecimento usando o GSEAPY"
   ]
  },
  {
   "cell_type": "code",
   "execution_count": null,
   "id": "8c4a8456",
   "metadata": {},
   "outputs": [],
   "source": []
  },
  {
   "cell_type": "markdown",
   "id": "c602f07b",
   "metadata": {},
   "source": [
    " # enriquecimento dos genes UP regulados"
   ]
  },
  {
   "cell_type": "code",
   "execution_count": null,
   "id": "1e685c0b",
   "metadata": {},
   "outputs": [],
   "source": [
    "# enrriquecimento usando GO biological process\n",
    "\n",
    "enr_GOBP_up = gp.enrichr(gene_list=DEGs_up , \n",
    "gene_sets=['GO_Biological_Process_2021'], \n",
    "organism='Human', \n",
    "description='DEGs_up', \n",
    "outdir='test/enr_DEGs_GOBP_up', \n",
    "cutoff=0.5 \n",
    ")"
   ]
  },
  {
   "cell_type": "code",
   "execution_count": null,
   "id": "1deaec4b",
   "metadata": {},
   "outputs": [],
   "source": [
    "barplot(enr_GOBP_up.res2d,\n",
    "        title='GO BP pacientes feminino \\n WHO_6-8 vs Ctrl (up)',\n",
    "        color = 'r',\n",
    "        cutoff=0.05,\n",
    "        figsize=(9 , 7.5),\n",
    "        top_term=10,\n",
    "        ofname='BIO_procs_F_WHO_6-8_vs_Ctrl.pdf')\n"
   ]
  },
  {
   "cell_type": "code",
   "execution_count": null,
   "id": "8b392d16",
   "metadata": {},
   "outputs": [],
   "source": [
    "# enrriquecimento usando GO molecular function\n",
    "\n",
    "enr_GOMF_up = gp.enrichr(gene_list=DEGs_up ,\n",
    " gene_sets=['GO_Molecular_Function_2021'],\n",
    " organism='Human', \n",
    " description='DEGs_up',\n",
    " outdir='test/enr_DEGs_GOMF_up',\n",
    " cutoff=0.5 \n",
    " )"
   ]
  },
  {
   "cell_type": "code",
   "execution_count": null,
   "id": "46f765ed",
   "metadata": {},
   "outputs": [],
   "source": [
    "barplot(enr_GOMF_up.res2d,\n",
    "        title='GO MF pacientes feminino \\n WHO_6-8 vs Ctrl (up)',\n",
    "        color = 'r',\n",
    "        cutoff=0.05,\n",
    "        figsize=(9 , 7.5),\n",
    "        top_term=10,\n",
    "        ofname='Mol_func_F_WHO_6-8_vs_Ctrl.pdf')\n"
   ]
  },
  {
   "cell_type": "code",
   "execution_count": null,
   "id": "3c4fdc9c",
   "metadata": {},
   "outputs": [],
   "source": [
    "# enrriquecimento com o REACTOME\n",
    "\n",
    "enr_Reactome_up = gp.enrichr(gene_list= DEGs_up,\n",
    " gene_sets=['Reactome_2016'],\n",
    " organism='Human', \n",
    " description='DEGs_up',\n",
    " outdir='test/enr_DEGs_Reactome_up',\n",
    " cutoff=0.5 \n",
    " )"
   ]
  },
  {
   "cell_type": "code",
   "execution_count": null,
   "id": "c89319da",
   "metadata": {},
   "outputs": [],
   "source": [
    "barplot(enr_Reactome_up.res2d,title='REACTOME pacientes feminino \\n WHO_6-8 vs Ctrl (up)',\n",
    "        color = 'r',\n",
    "        cutoff=0.05,\n",
    "        figsize=(9 , 7.5),\n",
    "        top_term=10,\n",
    "        ofname='REACTOME_F_WHO_6-8_vs_Ctrl.pdf')\n"
   ]
  },
  {
   "cell_type": "code",
   "execution_count": null,
   "id": "746418d1",
   "metadata": {},
   "outputs": [],
   "source": [
    "# enrriquecimento com o MSigDB_Hallmark_2020\n",
    "\n",
    "enr_hallmark_up = gp.enrichr(gene_list= DEGs_up,\n",
    " gene_sets=['MSigDB_Hallmark_2020'],\n",
    " organism='Human', \n",
    " description='DEGs_up',\n",
    " outdir='test/enr_DEGs_MSigDB_Hallmark_2020_up',\n",
    " cutoff=0.5 \n",
    " )"
   ]
  },
  {
   "cell_type": "code",
   "execution_count": null,
   "id": "9a82c7c0",
   "metadata": {},
   "outputs": [],
   "source": [
    "barplot(enr_hallmark_up.res2d,\n",
    "        title='MSigDB Hallmark pacientes feminino \\n WHO_6-8 vs Ctrl (up)',\n",
    "        color = 'r',\n",
    "        cutoff=0.05,\n",
    "        figsize=(9 , 7.5),\n",
    "        top_term=20,\n",
    "        ofname='MSigDB_Hallmark_F_WHO_6-8_vs_Ctrl.pdf')"
   ]
  },
  {
   "cell_type": "code",
   "execution_count": null,
   "id": "582e70ca",
   "metadata": {},
   "outputs": [],
   "source": [
    "# enrriquecimento com o KEGG_2021_Human\n",
    "\n",
    "enr_KEEG_up = gp.enrichr(gene_list= DEGs_up,\n",
    " gene_sets=['KEGG_2021_Human'],\n",
    " organism='Human', \n",
    " description='DEGs_up',\n",
    " outdir='test/enr_DEGs_KEGG_2021_Human_up',\n",
    " cutoff=0.5 \n",
    " )"
   ]
  },
  {
   "cell_type": "code",
   "execution_count": null,
   "id": "d32139b2",
   "metadata": {},
   "outputs": [],
   "source": [
    "barplot(enr_KEEG_up.res2d,\n",
    "        title='KEEG pacientes feminino \\n WHO_6-8 vs Ctrl (up)',\n",
    "        color = 'r',\n",
    "        cutoff=0.05,\n",
    "        figsize=(9 , 7.5),\n",
    "        top_term=10,\n",
    "        ofname='keeg_F_WHO_6-8_vs_Ctrl.pdf')\n"
   ]
  },
  {
   "cell_type": "code",
   "execution_count": null,
   "id": "28c7364f",
   "metadata": {},
   "outputs": [],
   "source": []
  },
  {
   "cell_type": "code",
   "execution_count": null,
   "id": "3c13698e",
   "metadata": {},
   "outputs": [],
   "source": [
    "# enrriquecimento com vias canonicas e perturbações quimicas e geneticas C2_MSigDB canonical paths\n",
    "\n",
    "enr_C2_cp_up = gp.enrichr(gene_list= DEGs_up,\n",
    " gene_sets='c2_cp.gmt',\n",
    " organism='Human', \n",
    " description='DEGs_up',\n",
    " outdir='test/enr_C2_cp_up',\n",
    " cutoff=0.5 \n",
    " )"
   ]
  },
  {
   "cell_type": "code",
   "execution_count": null,
   "id": "6d34a132",
   "metadata": {},
   "outputs": [],
   "source": [
    "barplot(enr_C2_cp_up.res2d,\n",
    "        title='C2_MSigDB pacientes feminino \\n WHO_6-8 vs Ctrl (up)',\n",
    "        color = 'r',\n",
    "        cutoff=0.05,\n",
    "        figsize=(9 , 7.5),\n",
    "        top_term=10,\n",
    "        ofname='C2_F_WHO_6-8_vs_Ctrl.pdf')"
   ]
  },
  {
   "cell_type": "markdown",
   "id": "c5cb0a0b",
   "metadata": {},
   "source": [
    " # enrriquecimento de vias com genes DOWN"
   ]
  },
  {
   "cell_type": "code",
   "execution_count": null,
   "id": "7ed45836",
   "metadata": {},
   "outputs": [],
   "source": [
    "enr_GOBP_down = gp.enrichr(gene_list=DEGs_down ,\n",
    "                 gene_sets=['GO_Biological_Process_2021'],\n",
    "                 organism='Human', \n",
    "                 description='DEGs_down',\n",
    "                 outdir='test/enr_DEGs_GOBP_down',\n",
    "                 cutoff=0.5 \n",
    "                )"
   ]
  },
  {
   "cell_type": "code",
   "execution_count": null,
   "id": "a2234c6b",
   "metadata": {},
   "outputs": [],
   "source": [
    "barplot(enr_GOBP_down.res2d,title='GO BP pacientes feminino \\n WHO_6-8 vs Ctrl (down)',color = 'b',\n",
    "        cutoff=0.05,\n",
    "        figsize=(9 , 7.5),\n",
    "        top_term=10,\n",
    "        ofname='GOBP_F_WHO_6-8_vs_Ctrl.pdf')\n"
   ]
  },
  {
   "cell_type": "code",
   "execution_count": null,
   "id": "8c111c4d",
   "metadata": {},
   "outputs": [],
   "source": [
    "enr_GOMF_down = gp.enrichr(gene_list=DEGs_down ,\n",
    "                 gene_sets=['GO_Molecular_Function_2021'],\n",
    "                 organism='Human', \n",
    "                 description='DEGs_down',\n",
    "                 outdir='test/enr_DEGs_GOMF_down',\n",
    "                 cutoff=0.5 \n",
    "                )"
   ]
  },
  {
   "cell_type": "code",
   "execution_count": null,
   "id": "00124746",
   "metadata": {},
   "outputs": [],
   "source": [
    "barplot(enr_GOMF_down.res2d,title='GO MF pacientes feminino \\n WHO_6-8 vs Ctrl (down)',color = 'b',\n",
    "        cutoff=0.05,\n",
    "        figsize=(9 , 7.5),\n",
    "        top_term=10,\n",
    "        ofname='GOMF_F_WHO_6-8_vs_Ctrl.pdf')\n"
   ]
  },
  {
   "cell_type": "code",
   "execution_count": null,
   "id": "d5c8657b",
   "metadata": {},
   "outputs": [],
   "source": [
    "enr_Reactome_down = gp.enrichr(gene_list=DEGs_down ,\n",
    "                 gene_sets=['Reactome_2016'],\n",
    "                 organism='Human', \n",
    "                 description='DEGs_down',\n",
    "                 outdir='test/enr_DEGs_Reactome_down',\n",
    "                 cutoff=0.5 \n",
    "                )"
   ]
  },
  {
   "cell_type": "code",
   "execution_count": null,
   "id": "b0c40cf5",
   "metadata": {},
   "outputs": [],
   "source": [
    "barplot(enr_Reactome_down.res2d,title='Reactome pacientes feminino \\n WHO_6-8 vs Ctrl (down)',color = 'b',\n",
    "        cutoff=0.05,\n",
    "        figsize=(9 , 7.5),\n",
    "        top_term=10,\n",
    "        ofname='Reactome_F_WHO_6-8_vs_Ctrl.pdf')\n"
   ]
  },
  {
   "cell_type": "code",
   "execution_count": null,
   "id": "c96aed92",
   "metadata": {},
   "outputs": [],
   "source": [
    "# enrriquecimento com o MSigDB_Hallmark_2020\n",
    "\n",
    "enr_hallmark_down = gp.enrichr(gene_list=DEGs_down ,\n",
    "                 gene_sets=['MSigDB_Hallmark_2020'],\n",
    "                 organism='Human', \n",
    "                 description='DEGs_down',\n",
    "                 outdir='test/enr_DEGs_hallmar_down',\n",
    "                 cutoff=0.5 \n",
    "                )"
   ]
  },
  {
   "cell_type": "code",
   "execution_count": null,
   "id": "f0a592f3",
   "metadata": {},
   "outputs": [],
   "source": [
    "gp.barplot(enr_hallmark_down.res2d,\n",
    "        title='MSigDB_Hallmark pacientes feminino \\n WHO_6-8 vs Ctrl (down)',\n",
    "        color = 'b',\n",
    "        cutoff=0.5,\n",
    "        figsize=(9 , 7.5),\n",
    "        top_term=10,\n",
    "        ofname='MSigDB_Hallmark_F_WHO_6-8_vs_Ctrl.pdf')"
   ]
  },
  {
   "cell_type": "code",
   "execution_count": null,
   "id": "c028e06d",
   "metadata": {},
   "outputs": [],
   "source": [
    "# enrriquecimento com o KEGG_2021_Human\n",
    "\n",
    "enr_KEEG_down = gp.enrichr(gene_list= DEGs_down,\n",
    "         gene_sets=['KEGG_2021_Human'],\n",
    "         organism='Human',\n",
    "         cutoff = 0.999996,\n",
    "         description='DEGs_down',\n",
    "         outdir='test/enr_DEGs_KEGG_2021_Human_down')"
   ]
  },
  {
   "cell_type": "code",
   "execution_count": null,
   "id": "194cb668",
   "metadata": {},
   "outputs": [],
   "source": [
    "barplot(enr_KEEG_down.res2d,title='KEGG pacientes feminino \\n WHO_6-8 vs Ctrl (down)',color = 'b',\n",
    "        figsize=(9 , 7.5),\n",
    "        top_term=10,\n",
    "        cutoff = 0.999996,\n",
    "        ofname='keeg_F_WHO_6-8_vs_Ctrl.pdf')\n"
   ]
  },
  {
   "cell_type": "code",
   "execution_count": null,
   "id": "1a3fbb43",
   "metadata": {},
   "outputs": [],
   "source": [
    "# enrriquecimento com vias canonicas e perturbações quimicas e geneticas C2_MSigDB canonical paths\n",
    "\n",
    "enr_C2_cp_down = gp.enrichr(gene_list= DEGs_down,\n",
    "         gene_sets='c2_cp.gmt',\n",
    "         organism='Human', \n",
    "         description='DEGs_down',\n",
    "         outdir='test/enr_C2_cp_down',\n",
    "         cutoff=0.5)"
   ]
  },
  {
   "cell_type": "code",
   "execution_count": null,
   "id": "73264357",
   "metadata": {},
   "outputs": [],
   "source": [
    "barplot(enr_C2_cp_down.res2d,title='C2_MSigDB pacientes feminino \\n WHO_6-8 vs Ctrl (down)',color = 'b',\n",
    "        cutoff=0.05,\n",
    "        figsize=(9 , 7.5),\n",
    "        top_term=10,\n",
    "        ofname='C2_F_WHO_6-8_vs_Ctrl.pdf')\n"
   ]
  },
  {
   "cell_type": "code",
   "execution_count": null,
   "id": "1f6e5c24",
   "metadata": {},
   "outputs": [],
   "source": [
    "enr_hallmark_down.results.head(10)\n"
   ]
  },
  {
   "cell_type": "markdown",
   "id": "77e796d4",
   "metadata": {},
   "source": [
    "# enrriquecimento com a lista total de gens ranqueada (GSEA)"
   ]
  },
  {
   "cell_type": "code",
   "execution_count": null,
   "id": "57fae45b",
   "metadata": {},
   "outputs": [],
   "source": [
    "gene_rank = pd.read_csv('DEGS_feminino_WHO_6-8_vs_Ctrl.csv', sep= ',')"
   ]
  },
  {
   "cell_type": "code",
   "execution_count": null,
   "id": "621ae806",
   "metadata": {},
   "outputs": [],
   "source": [
    "gene_rank"
   ]
  },
  {
   "cell_type": "code",
   "execution_count": null,
   "id": "dbd55512",
   "metadata": {},
   "outputs": [],
   "source": [
    "del gene_rank['logfoldchanges']\n",
    "del gene_rank['pvals']\n",
    "del gene_rank['pvals_adj']\n",
    "del gene_rank['Unnamed: 0']\n"
   ]
  },
  {
   "cell_type": "code",
   "execution_count": null,
   "id": "72c769df",
   "metadata": {},
   "outputs": [],
   "source": [
    "gene_rank"
   ]
  },
  {
   "cell_type": "code",
   "execution_count": null,
   "id": "a6328e2e",
   "metadata": {},
   "outputs": [],
   "source": [
    "#criando uma lista ranqueada \n",
    "#gene_rank.sort_values(by=['logfoldchanges'], inplace=True, ascending=False)"
   ]
  },
  {
   "cell_type": "code",
   "execution_count": null,
   "id": "4ae9a16d",
   "metadata": {},
   "outputs": [],
   "source": [
    "#gene_rank"
   ]
  },
  {
   "cell_type": "code",
   "execution_count": null,
   "id": "a20ed4f8",
   "metadata": {},
   "outputs": [],
   "source": [
    "#Available databases : ‘Human’, ‘Mouse’, ‘Yeast’, ‘Fly’, ‘Fish’, ‘Worm’ \n",
    "gene_set_names = gp.get_library_name(organism='Human')\n",
    "print(gene_set_names)"
   ]
  },
  {
   "cell_type": "code",
   "execution_count": null,
   "id": "36bc0e7b",
   "metadata": {},
   "outputs": [],
   "source": [
    "res = gp.prerank(rnk=gene_rank, gene_sets='MSigDB_Hallmark_2020')\n"
   ]
  },
  {
   "cell_type": "code",
   "execution_count": null,
   "id": "0c081fb1",
   "metadata": {},
   "outputs": [],
   "source": [
    "resultado= res.res2d\n",
    "resultado"
   ]
  },
  {
   "cell_type": "code",
   "execution_count": null,
   "id": "8c34e95b",
   "metadata": {},
   "outputs": [],
   "source": [
    "resultado.to_excel(\"res_enrich_GSEApy_6-8_vs_ctrl.xlsx\") # mudar o nome de acordo com a comparação e salvar"
   ]
  },
  {
   "cell_type": "code",
   "execution_count": null,
   "id": "f40d33c7",
   "metadata": {},
   "outputs": [],
   "source": [
    "res.res2d.head(10)"
   ]
  },
  {
   "cell_type": "code",
   "execution_count": null,
   "id": "b65ea55d",
   "metadata": {},
   "outputs": [],
   "source": [
    "import gseapy\n",
    "from gseapy.plot import gseaplot"
   ]
  },
  {
   "cell_type": "code",
   "execution_count": null,
   "id": "1107a206",
   "metadata": {},
   "outputs": [],
   "source": [
    "terms = res.res2d.index\n",
    "terms[:51]"
   ]
  },
  {
   "cell_type": "code",
   "execution_count": null,
   "id": "6ad7e7df",
   "metadata": {},
   "outputs": [],
   "source": [
    "gseapy.gseaplot(rank_metric=res.ranking, term=terms[48], **res.results[terms[48]])\n",
    "#gseapy.gseaplot(rank_metric=res.ranking, term=terms[49], **res.results[terms[49]], ofname='Androgen_Response_GSEA_plot.pdf')"
   ]
  },
  {
   "cell_type": "code",
   "execution_count": null,
   "id": "6bfa2399",
   "metadata": {},
   "outputs": [],
   "source": []
  }
 ],
 "metadata": {
  "kernelspec": {
   "display_name": "Python 3 (ipykernel)",
   "language": "python",
   "name": "python3"
  },
  "language_info": {
   "codemirror_mode": {
    "name": "ipython",
    "version": 3
   },
   "file_extension": ".py",
   "mimetype": "text/x-python",
   "name": "python",
   "nbconvert_exporter": "python",
   "pygments_lexer": "ipython3",
   "version": "3.10.2"
  }
 },
 "nbformat": 4,
 "nbformat_minor": 5
}
