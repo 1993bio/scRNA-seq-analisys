{
 "cells": [
  {
   "cell_type": "code",
   "execution_count": null,
   "id": "cc959dbe",
   "metadata": {},
   "outputs": [],
   "source": [
    "import numpy as np\n",
    "import pandas as pd\n",
    "import scanpy as sc\n",
    "import matplotlib.pyplot as plt\n",
    "import anndata"
   ]
  },
  {
   "cell_type": "code",
   "execution_count": null,
   "id": "ef22580d",
   "metadata": {},
   "outputs": [],
   "source": [
    "# definindo os parametros globais de qualidade do SCANPY\n",
    "sc.settings.verbosity = 2  # verbosity: erro (0) perigo (1), info (2), dicas (3)\n",
    "sc.settings.n_jobs = 8 #numero de nucleos utilizado no processamento paralelo (+ core, mais rapido os calculos serão realizados)"
   ]
  },
  {
   "cell_type": "code",
   "execution_count": null,
   "id": "8d5ac782",
   "metadata": {},
   "outputs": [],
   "source": [
    "# lendo os dados de single cell no formato h5ad\n",
    "adata = sc.read_h5ad('ziegler_homem_normalized2.h5ad')\n",
    "adata"
   ]
  },
  {
   "cell_type": "code",
   "execution_count": null,
   "id": "0ec017d5",
   "metadata": {},
   "outputs": [],
   "source": []
  },
  {
   "cell_type": "code",
   "execution_count": null,
   "id": "667cbb37",
   "metadata": {},
   "outputs": [],
   "source": []
  },
  {
   "cell_type": "markdown",
   "id": "d7e74a10",
   "metadata": {},
   "source": [
    "# ----------------- Dica para extrair dados do h5ad-------------"
   ]
  },
  {
   "cell_type": "code",
   "execution_count": null,
   "id": "42d6ad9c",
   "metadata": {},
   "outputs": [],
   "source": [
    "# isso escreve uma matriz de contagens para csv para que possa ser feit alguma alteração e dps inserilo novamente no h5ad\n",
    "t=adata.raw.obs.toarray()\n",
    "pd.DataFrame(data=t, index=adata.obs_names, columns=adata.raw.var_names).to_csv('adata_raw_counts_normalized_nasal.csv')"
   ]
  },
  {
   "cell_type": "code",
   "execution_count": null,
   "id": "3b343bf5",
   "metadata": {},
   "outputs": [],
   "source": [
    "#lendo as obs ou melhor as anotações dos dados dentro do H5ad\n",
    "adata.obs"
   ]
  },
  {
   "cell_type": "code",
   "execution_count": null,
   "id": "c1633719",
   "metadata": {},
   "outputs": [],
   "source": [
    "#exportando as observações e anotações dos dados \n",
    "adata.obs.to_csv(\"annotations_nasal.csv\")"
   ]
  },
  {
   "cell_type": "markdown",
   "id": "8d355bec",
   "metadata": {},
   "source": [
    "# Agora zere a memoria e inicie a concatenação de tabelas em um outro notebook.py (juntar tabelas.ipynb)"
   ]
  },
  {
   "cell_type": "code",
   "execution_count": null,
   "id": "9c7e7ab6",
   "metadata": {},
   "outputs": [],
   "source": []
  }
 ],
 "metadata": {
  "kernelspec": {
   "display_name": "Python 3 (ipykernel)",
   "language": "python",
   "name": "python3"
  },
  "language_info": {
   "codemirror_mode": {
    "name": "ipython",
    "version": 3
   },
   "file_extension": ".py",
   "mimetype": "text/x-python",
   "name": "python",
   "nbconvert_exporter": "python",
   "pygments_lexer": "ipython3",
   "version": "3.10.2"
  }
 },
 "nbformat": 4,
 "nbformat_minor": 5
}
