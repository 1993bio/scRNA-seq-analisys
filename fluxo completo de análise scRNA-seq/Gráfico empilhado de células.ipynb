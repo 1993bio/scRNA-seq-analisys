{
 "cells": [
  {
   "cell_type": "code",
   "execution_count": null,
   "id": "bcec3265",
   "metadata": {},
   "outputs": [],
   "source": [
    "import pandas as pd\n",
    "import numpy as np\n",
    "import matplotlib.pyplot as plt"
   ]
  },
  {
   "cell_type": "code",
   "execution_count": null,
   "id": "092638dd",
   "metadata": {},
   "outputs": [],
   "source": [
    "# Set the figure size - handy for larger output\n",
    "from matplotlib import pyplot as plt\n",
    "plt.rcParams[\"figure.figsize\"] = [12, 8]\n",
    "# Set up with a higher resolution screen (useful on Mac)\n",
    "%config InlineBackend.figure_format = 'retina'"
   ]
  },
  {
   "cell_type": "code",
   "execution_count": null,
   "id": "052efba8",
   "metadata": {},
   "outputs": [],
   "source": [
    "df= pd.read_excel('grafico de barras_celulasM_F.xlsx', index_col=0)  \n",
    "df"
   ]
  },
  {
   "cell_type": "markdown",
   "id": "b9d3c885",
   "metadata": {},
   "source": [
    "# grafico de barras com numero dentro"
   ]
  },
  {
   "cell_type": "code",
   "execution_count": null,
   "id": "6aaacd92",
   "metadata": {},
   "outputs": [],
   "source": [
    "# grafico de barras com numeros dentro\n",
    "ax = df.plot.barh(stacked=True, figsize=(16, 10))\n",
    "\n",
    "plt.legend(loc='upper right')#, bbox_to_anchor=(1.0, 0.5))\n",
    "plt.title(\"Quantidade de células em cada gênero\")\n",
    "plt.xlabel(\"Número de células\")\n",
    "plt.ylabel(\" \")\n",
    "\n",
    "# mostrando os dados da barra:\n",
    "for p in ax.patches:\n",
    "    left, bottom, width, height = p.get_bbox().bounds\n",
    "    if width > 0:\n",
    "         ax.annotate(f'{width:0.0f}', xy=(left+width/2, bottom+height/2), ha='center', va='center')"
   ]
  },
  {
   "cell_type": "code",
   "execution_count": null,
   "id": "25348821",
   "metadata": {},
   "outputs": [],
   "source": []
  },
  {
   "cell_type": "markdown",
   "id": "764c4243",
   "metadata": {},
   "source": [
    "# grafico de barras sem numero dentro"
   ]
  },
  {
   "cell_type": "code",
   "execution_count": null,
   "id": "174f1d7b",
   "metadata": {},
   "outputs": [],
   "source": [
    "# mesmo grafico acima com menos código (simplificado)\n",
    "df[[\"FEMININO\", \"MASCULINO\"]].plot(\n",
    "    kind=\"barh\", stacked=True\n",
    ").legend(\n",
    "    loc='upper right', ncol=3, title=\"Gênero\"\n",
    ")\n",
    "plt.title(\"Quantidade de células em cada gênero\")\n",
    "plt.xlabel(\"Número de células\")\n",
    "plt.ylabel(\" \")\n"
   ]
  },
  {
   "cell_type": "code",
   "execution_count": null,
   "id": "7a23a6c3",
   "metadata": {},
   "outputs": [],
   "source": []
  },
  {
   "cell_type": "code",
   "execution_count": null,
   "id": "6d8bccb9",
   "metadata": {},
   "outputs": [],
   "source": []
  }
 ],
 "metadata": {
  "kernelspec": {
   "display_name": "Python 3 (ipykernel)",
   "language": "python",
   "name": "python3"
  },
  "language_info": {
   "codemirror_mode": {
    "name": "ipython",
    "version": 3
   },
   "file_extension": ".py",
   "mimetype": "text/x-python",
   "name": "python",
   "nbconvert_exporter": "python",
   "pygments_lexer": "ipython3",
   "version": "3.10.2"
  }
 },
 "nbformat": 4,
 "nbformat_minor": 5
}
