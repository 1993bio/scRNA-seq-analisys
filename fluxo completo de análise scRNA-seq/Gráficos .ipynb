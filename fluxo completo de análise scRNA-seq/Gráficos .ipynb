{
 "cells": [
  {
   "cell_type": "code",
   "execution_count": null,
   "id": "9c15532f",
   "metadata": {},
   "outputs": [],
   "source": [
    "#importando a biblioteca scanpy e lendo os dados processados no caderno anterior.\n",
    "import scanpy as sc\n",
    "import numpy as np\n",
    "import pandas as pd\n",
    "from sklearn.cluster import KMeans\n",
    "from sklearn.metrics import adjusted_rand_score\n",
    "%matplotlib inline\n",
    "import collections\n",
    "import matplotlib\n",
    "import matplotlib.pyplot as plt\n",
    "from matplotlib import pyplot as plt\n",
    "import h5py\n",
    "import scipy.sparse as sp_sparse\n",
    "from scipy.stats import ttest_ind # importando uma biblioteca estatistica do scipy\n",
    "from multiprocessing import Pool\n",
    "import warnings\n",
    "\n",
    "warnings.filterwarnings(\"ignore\")\n",
    "sc.settings.verbosity = 3             \n",
    "sc.logging.print_header()\n",
    "\n",
    "# definindo os parametros globais de qualidade do SCANPY\n",
    "sc.settings.verbosity = 2  # verbosity: erro (0) perigo (1), info (2), dicas (3)\n",
    "sc.settings.set_figure_params(dpi=600, dpi_save=600, format ='svg',) #qualidade das imagens para 700 DPI (alta resolução)\n",
    "sc.settings.n_jobs = 8 #numero de nucleos utilizado no processamento paralelo (+ core, mais rapido os calculos serão realizados)"
   ]
  },
  {
   "cell_type": "code",
   "execution_count": null,
   "id": "8c6fa695",
   "metadata": {},
   "outputs": [],
   "source": [
    "adata = sc.read_h5ad('masculino_normalizado_cluster_e_DEGs.h5ad') #inserir os dados com os nomes corretos para leitura\n",
    "adata"
   ]
  },
  {
   "cell_type": "code",
   "execution_count": null,
   "id": "7176bb65",
   "metadata": {},
   "outputs": [],
   "source": [
    "#sc.pl.violin(adata, ['TMPRSS2', 'ACE2'],\n",
    "#             groupby='Annotation',\n",
    "#             scale ='width',\n",
    "#             rotation =90,\n",
    "#             ylabel = 'Expressão média',\n",
    "#             stripplot =True,\n",
    "#             jitter= True,\n",
    "#             size =1,\n",
    "#             save ='TMPRSS2_violino_todos grupos_celulas.png')"
   ]
  },
  {
   "cell_type": "code",
   "execution_count": null,
   "id": "108c9612",
   "metadata": {},
   "outputs": [],
   "source": [
    "sc.pl.stacked_violin(adata, ['TMPRSS2', 'ACE2'],\n",
    "                     groupby='Annotation',\n",
    "                     log=False,\n",
    "                     row_palette = 'hls',\n",
    "                     standard_scale= 'var',\n",
    "                     stripplot= True,\n",
    "                     jitter= True,\n",
    "                     size= 1,\n",
    "                     swap_axes= True,\n",
    "                     scale='width',\n",
    "                     title= \"Masculino \\n Expressão dos genes $\\it{TMPRSS2}$ e $\\it{ACE2}$ em todos os grupos de células\",\n",
    "                     figsize= (10,10),\n",
    "                     save= 'violino_Masculino_todas_células.png')"
   ]
  },
  {
   "cell_type": "code",
   "execution_count": null,
   "id": "c529478b",
   "metadata": {},
   "outputs": [],
   "source": [
    "\"\"\"\"\"\"\n",
    "#marcadores =['TMPRSS2','ACE2','AR']\n",
    "\n",
    "#dic_de_marcadores = {\n",
    "\n",
    "'B Cells': ['TMPRSS2', 'ACE2'],\n",
    "'Basal Cells': ['TMPRSS2', 'ACE2'],\n",
    "'Ciliated Cells': ['TMPRSS2', 'ACE2'],\n",
    "'Dendritic Cells': ['TMPRSS2', 'ACE2'],\n",
    "'Deuterosomal Cells': ['TMPRSS2', 'ACE2'],\n",
    "'Developing Ciliated Cells': ['TMPRSS2', 'ACE2'],\n",
    "'Developing Secretory_Goblet Cells': ['TMPRSS2', 'ACE2'],\n",
    "'Enteroendocrine Cells': ['TMPRSS2', 'ACE2'],\n",
    "'Erythroblasts': ['TMPRSS2', 'ACE2'],\n",
    "'Goblet Cells': ['TMPRSS2', 'ACE2'],\n",
    "'Ionocytes': ['TMPRSS2', 'ACE2'],\n",
    "'Macrophages': ['TMPRSS2', 'ACE2'],\n",
    "'Mast Cells': ['TMPRSS2', 'ACE2'],\n",
    "'Mitotic Basal Cells': ['TMPRSS2', 'ACE2'],\n",
    "'Plasmacytoid DCs': ['TMPRSS2', 'ACE2'],\n",
    "'Secretory Cells': ['TMPRSS2', 'ACE2'],\n",
    "'Squamous Cells': ['TMPRSS2', 'ACE2'],\n",
    "'T Cells': ['TMPRSS2', 'ACE2'],\n",
    "}\n",
    "\"\"\"\"\"\""
   ]
  },
  {
   "cell_type": "code",
   "execution_count": null,
   "id": "0ce05ce1",
   "metadata": {},
   "outputs": [],
   "source": [
    "\"\"\"\"\"\"\n",
    "#sc.pl.matrixplot(adata,\n",
    " #                marker_genes_dict,\n",
    " #                groupby = 'Annotation',\n",
    " #                log= True,\n",
    " #                swap_axes = True,\n",
    " #                standard_scale = 'var')\n",
    "\"\"\"\"\"\""
   ]
  },
  {
   "cell_type": "code",
   "execution_count": null,
   "id": "f0392c33",
   "metadata": {},
   "outputs": [],
   "source": []
  },
  {
   "cell_type": "code",
   "execution_count": null,
   "id": "145d36f3",
   "metadata": {},
   "outputs": [],
   "source": []
  },
  {
   "cell_type": "code",
   "execution_count": null,
   "id": "d3d77564",
   "metadata": {},
   "outputs": [],
   "source": []
  }
 ],
 "metadata": {
  "kernelspec": {
   "display_name": "Python 3 (ipykernel)",
   "language": "python",
   "name": "python3"
  },
  "language_info": {
   "codemirror_mode": {
    "name": "ipython",
    "version": 3
   },
   "file_extension": ".py",
   "mimetype": "text/x-python",
   "name": "python",
   "nbconvert_exporter": "python",
   "pygments_lexer": "ipython3",
   "version": "3.10.2"
  }
 },
 "nbformat": 4,
 "nbformat_minor": 5
}
