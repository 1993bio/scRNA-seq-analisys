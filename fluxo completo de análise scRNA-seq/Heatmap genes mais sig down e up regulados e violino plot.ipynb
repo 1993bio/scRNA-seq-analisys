{
 "cells": [
  {
   "cell_type": "code",
   "execution_count": null,
   "id": "ba2ee7d6",
   "metadata": {},
   "outputs": [],
   "source": [
    "import scanpy as sc\n",
    "import matplotlib.pyplot as plt\n",
    "import pandas as pd\n",
    "import numpy as np\n",
    "from scipy.stats import ttest_ind # importando uma biblioteca estatistica do scipy\n",
    "from multiprocessing import Pool\n",
    "import warnings\n",
    "warnings.filterwarnings(\"ignore\")\n",
    "sc.settings.verbosity = 3             \n",
    "sc.logging.print_header()"
   ]
  },
  {
   "cell_type": "code",
   "execution_count": null,
   "id": "0aa480ec",
   "metadata": {},
   "outputs": [],
   "source": [
    "df = pd.read_csv('DEGS_masculino_WHO_6-8_vs_ctrl_WHO_0.csv', sep= ',', index_col = 1)\n",
    "df"
   ]
  },
  {
   "cell_type": "code",
   "execution_count": null,
   "id": "0426ba29",
   "metadata": {},
   "outputs": [],
   "source": [
    "del df['Unnamed: 0']"
   ]
  },
  {
   "cell_type": "code",
   "execution_count": null,
   "id": "d4b61502",
   "metadata": {},
   "outputs": [],
   "source": [
    "df"
   ]
  },
  {
   "cell_type": "markdown",
   "id": "5617d360",
   "metadata": {},
   "source": [
    "# criando variaveis com genes up e gens down, importar para .csv para uso posterior"
   ]
  },
  {
   "cell_type": "code",
   "execution_count": null,
   "id": "bbb52dec",
   "metadata": {},
   "outputs": [],
   "source": [
    "#criando tabela de genes UP regulados significativos\n",
    "DEGs_up = (df[(df['logfoldchanges'] > 1.5) & (df['pvals_adj'] < 0.05)]).index.tolist()"
   ]
  },
  {
   "cell_type": "code",
   "execution_count": null,
   "id": "214ac2b6",
   "metadata": {},
   "outputs": [],
   "source": [
    "# convertendo lista de genes em um dataframe com up e doen\n",
    "genes_up = pd.DataFrame(list(zip(DEGs_up)), columns = ['Up_regulated'])\n",
    "genes_up"
   ]
  },
  {
   "cell_type": "code",
   "execution_count": null,
   "id": "0959160a",
   "metadata": {},
   "outputs": [],
   "source": [
    "# criando tabela de genes DOWN regulados siginificativos\n",
    "DEGs_down = (df[(df['logfoldchanges'] < -1.5) & (df['pvals_adj'] < 0.05)]).index.tolist()"
   ]
  },
  {
   "cell_type": "code",
   "execution_count": null,
   "id": "595d803a",
   "metadata": {},
   "outputs": [],
   "source": [
    "genes_down = pd.DataFrame(list(zip(DEGs_down)), columns = ['Down_regulated'])\n",
    "genes_down"
   ]
  },
  {
   "cell_type": "markdown",
   "id": "41304f9f",
   "metadata": {},
   "source": [
    "# Exportanto tabelas de genes UP e DOWN regulados significativos"
   ]
  },
  {
   "cell_type": "code",
   "execution_count": null,
   "id": "d949b45d",
   "metadata": {},
   "outputs": [],
   "source": [
    "#exoportando os genes up para .csv\n",
    "#genes_up.to_csv(\"GENES_UP_6-8_vs_ctrl.csv\", sep=\",\")\n",
    "#genes_up.to_excel(\"GENES_UP_6-8_vs_ctrl.xlsx\")"
   ]
  },
  {
   "cell_type": "code",
   "execution_count": null,
   "id": "28ee585a",
   "metadata": {},
   "outputs": [],
   "source": [
    "#Exportando os genes down para .csv\n",
    "#genes_down.to_csv(\"GENES_DOWN_6-8_vs_ctrl.csv\", sep=\",\")\n",
    "#genes_down.to_excel(\"GENES_DOWN_6-8_vs_ctrl.xlsx\")"
   ]
  },
  {
   "cell_type": "markdown",
   "id": "5b4bc53b",
   "metadata": {},
   "source": [
    "# criando um heatmap com os gens up e down"
   ]
  },
  {
   "cell_type": "code",
   "execution_count": null,
   "id": "d4670523",
   "metadata": {},
   "outputs": [],
   "source": [
    "#lendo o H5AD que contem as estatisticas de DEGS\n",
    "adata = sc.read_h5ad('masculino_normalizado_e_DEGs.h5ad') #inserir os dados com os nomes corretos para leitura\n",
    "adata"
   ]
  },
  {
   "cell_type": "code",
   "execution_count": null,
   "id": "36e27fb0",
   "metadata": {},
   "outputs": [],
   "source": []
  },
  {
   "cell_type": "code",
   "execution_count": null,
   "id": "ca0f54e2",
   "metadata": {},
   "outputs": [],
   "source": [
    "# juntando as duas listas de genes up e down regulados em uma só lista\n",
    "gene_names = (DEGs_up + DEGs_down)"
   ]
  },
  {
   "cell_type": "code",
   "execution_count": null,
   "id": "7f9a0cd7",
   "metadata": {},
   "outputs": [],
   "source": [
    "print(gene_names)"
   ]
  },
  {
   "cell_type": "code",
   "execution_count": null,
   "id": "d2cde8e2",
   "metadata": {},
   "outputs": [],
   "source": []
  },
  {
   "cell_type": "code",
   "execution_count": null,
   "id": "afee0096",
   "metadata": {},
   "outputs": [],
   "source": [
    "# heat map com os genes diferencialmente expressos masi significativos\n",
    "sc.pl.matrixplot(adata, gene_names, \n",
    "              groupby = 'Cohort_Disease_WHO_Score',\n",
    "              log = True,\n",
    "              cmap='RdBu_r',\n",
    "              standard_scale= 'var',\n",
    "              #show_gene_labels=True,\n",
    "              title ='Heatmap de genes diferencialmente expressos em pacientes do gênero masculino \\n para todos grupos de classificação da OMS)',\n",
    "              colorbar_title= 'EXPRESSÃO MÉDIA',\n",
    "              swap_axes = False,\n",
    "              figsize= (15,5),\n",
    "              save = 'HEAT_DEGS_masculino_WHO_6-8_vs_ctrl.png')"
   ]
  },
  {
   "cell_type": "markdown",
   "id": "09e11266",
   "metadata": {},
   "source": [
    "# matrix plot com todos os genes up e down"
   ]
  },
  {
   "cell_type": "code",
   "execution_count": null,
   "id": "1151e1c5",
   "metadata": {},
   "outputs": [],
   "source": [
    "DEGs_up2 = (df[(df['logfoldchanges'] >= 1.5) & (df['pvals_adj'] < 0.05)]).index.tolist()"
   ]
  },
  {
   "cell_type": "code",
   "execution_count": null,
   "id": "051dd4c1",
   "metadata": {},
   "outputs": [],
   "source": [
    "genes_up2 = pd.DataFrame(list(zip(DEGs_up2)), columns = ['Up_regulated'])\n",
    "genes_up2"
   ]
  },
  {
   "cell_type": "code",
   "execution_count": null,
   "id": "d32fa985",
   "metadata": {},
   "outputs": [],
   "source": [
    "genes_up2.to_excel(\"GENES_UP_6-8_vs_ctrl_masculino.xlsx\")"
   ]
  },
  {
   "cell_type": "code",
   "execution_count": null,
   "id": "f5d44cce",
   "metadata": {},
   "outputs": [],
   "source": [
    "DEGs_down2 = (df[(df['logfoldchanges'] <= -1.5) & (df['pvals_adj'] < 0.05)]).index.tolist()"
   ]
  },
  {
   "cell_type": "code",
   "execution_count": null,
   "id": "9de65f54",
   "metadata": {},
   "outputs": [],
   "source": [
    "genes_down2 = pd.DataFrame(list(zip(DEGs_down2)), columns = ['Down_regulated'])\n",
    "genes_down2"
   ]
  },
  {
   "cell_type": "code",
   "execution_count": null,
   "id": "827e979b",
   "metadata": {},
   "outputs": [],
   "source": [
    "genes_down2= to_excel(\"GENES_DOWN_6-8_vs_ctrl_masculino.xlsx\")"
   ]
  },
  {
   "cell_type": "code",
   "execution_count": null,
   "id": "a1f78417",
   "metadata": {},
   "outputs": [],
   "source": [
    "gene_names2 = (DEGs_up2 + DEGs_down2)"
   ]
  },
  {
   "cell_type": "code",
   "execution_count": null,
   "id": "bc622df4",
   "metadata": {},
   "outputs": [],
   "source": [
    "gene_names2"
   ]
  },
  {
   "cell_type": "code",
   "execution_count": null,
   "id": "928b4ba3",
   "metadata": {},
   "outputs": [],
   "source": [
    "# heat map com os genes diferencialmente expressos masi significativos\n",
    "sc.pl.heatmap(adata, gene_names2, \n",
    "              groupby = 'Cohort_Disease_WHO_Score',\n",
    "              log = True,\n",
    "              cmap='viridis',\n",
    "              standard_scale= 'obs',\n",
    "              swap_axes = False,\n",
    "              figsize= (15,8),\n",
    "              save = 'HEAT2_DEGS_masculino_WHO_6-8_vs_ctrl_WHO_0.png')"
   ]
  },
  {
   "cell_type": "markdown",
   "id": "2ca2c65c",
   "metadata": {},
   "source": [
    "# Violino plot para os generos en todos os grupos OMS"
   ]
  },
  {
   "cell_type": "code",
   "execution_count": null,
   "id": "cd37ad56",
   "metadata": {},
   "outputs": [],
   "source": [
    "markers =['TMPRSS2', 'ACE2', 'AR']"
   ]
  },
  {
   "cell_type": "code",
   "execution_count": null,
   "id": "631ae2bb",
   "metadata": {},
   "outputs": [],
   "source": [
    "sc.pl.stacked_violin(adata, markers,\n",
    "                     groupby='Cohort_Disease_WHO_Score',\n",
    "                     log=False,\n",
    "                     row_palette = 'hls',\n",
    "                     standard_scale= 'var',\n",
    "                     stripplot= True,\n",
    "                     jitter= True,\n",
    "                     size= 1,\n",
    "                     scale='width',\n",
    "                     title= \"Expressão dos genes $\\it{TMPRSS2}$, $\\it{ACE2}$ e $\\it{AR}$ em pacientes do gênero masculino \\n para todos grupos de classificação da OMS\",\n",
    "                     figsize= (10.2,10.2),\n",
    "                     save= 'violino_masculino_todos grupos.png')"
   ]
  },
  {
   "cell_type": "code",
   "execution_count": null,
   "id": "2b81919f",
   "metadata": {},
   "outputs": [],
   "source": []
  },
  {
   "cell_type": "code",
   "execution_count": null,
   "id": "e1b3f01d",
   "metadata": {},
   "outputs": [],
   "source": []
  },
  {
   "cell_type": "code",
   "execution_count": null,
   "id": "5e697d43",
   "metadata": {},
   "outputs": [],
   "source": []
  },
  {
   "cell_type": "code",
   "execution_count": null,
   "id": "94374360",
   "metadata": {},
   "outputs": [],
   "source": []
  },
  {
   "cell_type": "code",
   "execution_count": null,
   "id": "7306e4b9",
   "metadata": {},
   "outputs": [],
   "source": []
  },
  {
   "cell_type": "code",
   "execution_count": null,
   "id": "fa40cbe5",
   "metadata": {},
   "outputs": [],
   "source": []
  },
  {
   "cell_type": "code",
   "execution_count": null,
   "id": "d67237c7",
   "metadata": {},
   "outputs": [],
   "source": []
  },
  {
   "cell_type": "code",
   "execution_count": null,
   "id": "c895aed2",
   "metadata": {},
   "outputs": [],
   "source": []
  },
  {
   "cell_type": "code",
   "execution_count": null,
   "id": "77e76aee",
   "metadata": {},
   "outputs": [],
   "source": []
  },
  {
   "cell_type": "code",
   "execution_count": null,
   "id": "fd0d2478",
   "metadata": {},
   "outputs": [],
   "source": []
  },
  {
   "cell_type": "code",
   "execution_count": null,
   "id": "806d771b",
   "metadata": {},
   "outputs": [],
   "source": []
  },
  {
   "cell_type": "code",
   "execution_count": null,
   "id": "d8403306",
   "metadata": {},
   "outputs": [],
   "source": []
  }
 ],
 "metadata": {
  "kernelspec": {
   "display_name": "Python 3 (ipykernel)",
   "language": "python",
   "name": "python3"
  },
  "language_info": {
   "codemirror_mode": {
    "name": "ipython",
    "version": 3
   },
   "file_extension": ".py",
   "mimetype": "text/x-python",
   "name": "python",
   "nbconvert_exporter": "python",
   "pygments_lexer": "ipython3",
   "version": "3.10.2"
  }
 },
 "nbformat": 4,
 "nbformat_minor": 5
}
