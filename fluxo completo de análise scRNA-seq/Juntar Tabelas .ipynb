{
 "cells": [
  {
   "cell_type": "code",
   "execution_count": null,
   "id": "6def273c",
   "metadata": {},
   "outputs": [],
   "source": [
    "import numpy as np\n",
    "import pandas as pd\n",
    "import scanpy as sc\n",
    "import matplotlib.pyplot as plt\n",
    "import anndata\n",
    "from multiprocessing import Pool\n",
    "import warnings\n",
    "warnings.filterwarnings(\"ignore\")\n",
    "import multiprocessing as mp\n",
    "import time"
   ]
  },
  {
   "cell_type": "code",
   "execution_count": null,
   "id": "e3808b94",
   "metadata": {},
   "outputs": [],
   "source": [
    "df1 = pd.read_csv(\"annotations_nasal.csv\") # lendo a tabela 1 extraida do h5ad"
   ]
  },
  {
   "cell_type": "code",
   "execution_count": null,
   "id": "3585afbf",
   "metadata": {},
   "outputs": [],
   "source": [
    "df1"
   ]
  },
  {
   "cell_type": "code",
   "execution_count": null,
   "id": "cac0bf26",
   "metadata": {},
   "outputs": [],
   "source": [
    "del df1['total_counts_mt']"
   ]
  },
  {
   "cell_type": "code",
   "execution_count": null,
   "id": "b629c0b9",
   "metadata": {},
   "outputs": [],
   "source": [
    "df1"
   ]
  },
  {
   "cell_type": "code",
   "execution_count": null,
   "id": "8b220f05",
   "metadata": {},
   "outputs": [],
   "source": [
    "df1[\"sex\"].replace({\"male\": \"M\", \"female\": \"F\"}, inplace=True) # trocando valores de um indice de uma coluna"
   ]
  },
  {
   "cell_type": "code",
   "execution_count": null,
   "id": "fa5bd9e0",
   "metadata": {},
   "outputs": [],
   "source": [
    "df1"
   ]
  },
  {
   "cell_type": "code",
   "execution_count": null,
   "id": "bb458315",
   "metadata": {},
   "outputs": [],
   "source": [
    "#lendo a tabela de contgens extraida do h5ad\n",
    "s_time_chunk = time.time()\n",
    "chunk = pd.read_csv('adata_raw_counts_normalized_nasal.csv', chunksize=10000)\n",
    "e_time_chunk = time.time()\n",
    "  \n",
    "print(\"With chunks: \", (e_time_chunk-s_time_chunk), \"sec\")\n",
    "df2 = pd.concat(chunk)\n",
    "  \n",
    "# data\n",
    "df2"
   ]
  },
  {
   "cell_type": "code",
   "execution_count": null,
   "id": "a98be7fd",
   "metadata": {},
   "outputs": [],
   "source": []
  },
  {
   "cell_type": "code",
   "execution_count": null,
   "id": "fd96eda3",
   "metadata": {},
   "outputs": [],
   "source": []
  },
  {
   "cell_type": "markdown",
   "id": "dead6876",
   "metadata": {},
   "source": [
    "# unindo as tabelas de metadados com a tabela de contagens"
   ]
  },
  {
   "cell_type": "code",
   "execution_count": null,
   "id": "52a512c1",
   "metadata": {},
   "outputs": [],
   "source": [
    "# comando para juntar as duas tabelas contidas na variavel df1 e df2\n",
    "df3 = pd.concat([df1, df2], axis=1 )"
   ]
  },
  {
   "cell_type": "code",
   "execution_count": null,
   "id": "09bd0ba6",
   "metadata": {},
   "outputs": [],
   "source": [
    "df3"
   ]
  },
  {
   "cell_type": "code",
   "execution_count": null,
   "id": "6330c11d",
   "metadata": {},
   "outputs": [],
   "source": [
    "# outra maneira de juntar as tabelas usando o comando merge pelo nome dos barcodes de células\n",
    "df4 = pd.merge(df1, df2, how ='inner', on = 'Unnamed: 0')\n"
   ]
  },
  {
   "cell_type": "code",
   "execution_count": null,
   "id": "f4c7caf5",
   "metadata": {},
   "outputs": [],
   "source": [
    "df4"
   ]
  },
  {
   "cell_type": "code",
   "execution_count": null,
   "id": "ab41fadb",
   "metadata": {},
   "outputs": [],
   "source": [
    "df3.to_csv(\"Tabela_final_ziegler_1_norm.csv\")"
   ]
  },
  {
   "cell_type": "code",
   "execution_count": null,
   "id": "3221533c",
   "metadata": {},
   "outputs": [],
   "source": [
    "df4.to_csv(\"Tabela_final_Ziegler_2_norm.csv\")"
   ]
  },
  {
   "cell_type": "markdown",
   "id": "d707a6ce",
   "metadata": {},
   "source": [
    "# Próximo passo é criar as separações de interesse por exemplo grupos de infectados e nao infectados, homens e mulheres."
   ]
  },
  {
   "cell_type": "code",
   "execution_count": null,
   "id": "09e3f438",
   "metadata": {},
   "outputs": [],
   "source": []
  },
  {
   "cell_type": "code",
   "execution_count": null,
   "id": "fe3b3e0e",
   "metadata": {},
   "outputs": [],
   "source": []
  },
  {
   "cell_type": "code",
   "execution_count": null,
   "id": "926445aa",
   "metadata": {},
   "outputs": [],
   "source": []
  }
 ],
 "metadata": {
  "kernelspec": {
   "display_name": "Python 3 (ipykernel)",
   "language": "python",
   "name": "python3"
  },
  "language_info": {
   "codemirror_mode": {
    "name": "ipython",
    "version": 3
   },
   "file_extension": ".py",
   "mimetype": "text/x-python",
   "name": "python",
   "nbconvert_exporter": "python",
   "pygments_lexer": "ipython3",
   "version": "3.10.2"
  }
 },
 "nbformat": 4,
 "nbformat_minor": 5
}
