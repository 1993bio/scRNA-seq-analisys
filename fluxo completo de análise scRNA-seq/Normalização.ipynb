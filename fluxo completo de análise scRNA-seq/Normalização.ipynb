{
 "cells": [
  {
   "cell_type": "code",
   "execution_count": null,
   "id": "be096634",
   "metadata": {},
   "outputs": [],
   "source": [
    "import numpy as np\n",
    "import pandas as pd\n",
    "import matplotlib.pyplot as plt\n",
    "from multiprocessing import Pool\n",
    "import warnings\n",
    "warnings.filterwarnings(\"ignore\")\n",
    "import multiprocessing as mp\n",
    "import time\n",
    "import seaborn as sns\n",
    "import matplotlib.ticker as ticker\n",
    "import scprep\n",
    "import scanpy as sc\n",
    "sc.settings.verbosity = 3             \n",
    "sc.logging.print_header()\n",
    "sc.settings.set_figure_params(dpi=200, facecolor='white')"
   ]
  },
  {
   "cell_type": "code",
   "execution_count": null,
   "id": "4a3e9eac",
   "metadata": {},
   "outputs": [],
   "source": [
    "adata = sc.read('feminino_quali.h5ad')"
   ]
  },
  {
   "cell_type": "code",
   "execution_count": null,
   "id": "7b8f8a4c",
   "metadata": {},
   "outputs": [],
   "source": [
    "adata"
   ]
  },
  {
   "cell_type": "code",
   "execution_count": null,
   "id": "d8a54132",
   "metadata": {},
   "outputs": [],
   "source": [
    "#normalizando por célula\n",
    "adata_cpm = adata.copy() # aplica isso a uma cópia para que possamos comparar os métodos\n",
    "adata_cpm.raw = adata_cpm # armazena uma cópia dos valores brutos antes de normaliza\n",
    "sc.pp.normalize_per_cell(adata_cpm, counts_per_cell_after=1e6)"
   ]
  },
  {
   "cell_type": "code",
   "execution_count": null,
   "id": "f1968a54",
   "metadata": {},
   "outputs": [],
   "source": [
    "#normalização total\n",
    "adata_cpm2 = adata.copy() # aplica isso a uma cópia para que possamos comparar os métodos\n",
    "adata_cpm2.raw = adata_cpm2 # armazena uma cópia dos valores brutos antes de normaliza\n",
    "sc.pp.normalize_total(adata_cpm2, target_sum=1e6)"
   ]
  },
  {
   "cell_type": "code",
   "execution_count": null,
   "id": "dd98ff75",
   "metadata": {},
   "outputs": [],
   "source": []
  },
  {
   "cell_type": "code",
   "execution_count": null,
   "id": "b5f61c70",
   "metadata": {},
   "outputs": [],
   "source": [
    "sc.pp.log1p(adata_cpm)"
   ]
  },
  {
   "cell_type": "code",
   "execution_count": null,
   "id": "8ef7176d",
   "metadata": {},
   "outputs": [],
   "source": [
    "sc.pp.log1p(adata_cpm2)"
   ]
  },
  {
   "cell_type": "code",
   "execution_count": null,
   "id": "e9d8c438",
   "metadata": {},
   "outputs": [],
   "source": [
    "#Identificar genes altamente variáveis.\n",
    "sc.pp.highly_variable_genes(adata_cpm, min_mean=0.0125, max_mean=3, min_disp=0.5)"
   ]
  },
  {
   "cell_type": "code",
   "execution_count": null,
   "id": "174b6230",
   "metadata": {},
   "outputs": [],
   "source": [
    "sc.pl.highly_variable_genes(adata_cpm)"
   ]
  },
  {
   "cell_type": "code",
   "execution_count": null,
   "id": "ecab1fc5",
   "metadata": {},
   "outputs": [],
   "source": [
    "#Identificar genes altamente variáveis.\n",
    "sc.pp.highly_variable_genes(adata_cpm2, min_mean=0.0125, max_mean=3, min_disp=0.5)"
   ]
  },
  {
   "cell_type": "code",
   "execution_count": null,
   "id": "692408b3",
   "metadata": {},
   "outputs": [],
   "source": [
    "sc.pl.highly_variable_genes(adata_cpm2)"
   ]
  },
  {
   "cell_type": "code",
   "execution_count": null,
   "id": "36a09a6e",
   "metadata": {},
   "outputs": [],
   "source": [
    "adata_cpm = adata_cpm[:, adata_cpm.var.highly_variable] #os genes altamente variaveis são adicionados a um anotação highly_variable"
   ]
  },
  {
   "cell_type": "code",
   "execution_count": null,
   "id": "0bd132d2",
   "metadata": {},
   "outputs": [],
   "source": [
    "adata_cpm2 = adata_cpm2[:, adata_cpm2.var.highly_variable] #os genes altamente variaveis são adicionados a um anotação highly_variable"
   ]
  },
  {
   "cell_type": "code",
   "execution_count": null,
   "id": "ec81ef1e",
   "metadata": {},
   "outputs": [],
   "source": [
    "#Regredir os efeitos das contagens totais por célula e a porcentagem de genes mitocondriais expressos.\n",
    "sc.pp.regress_out(adata_cpm, ['total_counts', 'pct_counts_mt'])\n"
   ]
  },
  {
   "cell_type": "code",
   "execution_count": null,
   "id": "37591e62",
   "metadata": {},
   "outputs": [],
   "source": [
    "#Regredir os efeitos das contagens totais por célula e a porcentagem de genes mitocondriais expressos.\n",
    "sc.pp.regress_out(adata_cpm2, ['total_counts', 'pct_counts_mt'])"
   ]
  },
  {
   "cell_type": "code",
   "execution_count": null,
   "id": "423344b8",
   "metadata": {},
   "outputs": [],
   "source": [
    "sc.pp.scale(adata_cpm) # escalonando as contagens de genes para variancia unitaria"
   ]
  },
  {
   "cell_type": "code",
   "execution_count": null,
   "id": "b796d763",
   "metadata": {},
   "outputs": [],
   "source": [
    "sc.pp.scale(adata_cpm2) # escalonando as contagens de genes para variancia unitaria"
   ]
  },
  {
   "cell_type": "code",
   "execution_count": null,
   "id": "d69502f4",
   "metadata": {},
   "outputs": [],
   "source": [
    "adata_cpm.write('ziegler_mulher_normalizado.h5ad')\n",
    "adata_cpm2.write('ziegler_mulher_normalizado2.h5ad')"
   ]
  },
  {
   "cell_type": "code",
   "execution_count": null,
   "id": "6e452513",
   "metadata": {},
   "outputs": [],
   "source": []
  },
  {
   "cell_type": "code",
   "execution_count": null,
   "id": "617e6753",
   "metadata": {},
   "outputs": [],
   "source": []
  },
  {
   "cell_type": "code",
   "execution_count": null,
   "id": "67c52f8b",
   "metadata": {},
   "outputs": [],
   "source": []
  },
  {
   "cell_type": "code",
   "execution_count": null,
   "id": "b9999513",
   "metadata": {},
   "outputs": [],
   "source": []
  },
  {
   "cell_type": "code",
   "execution_count": null,
   "id": "b44bc270",
   "metadata": {},
   "outputs": [],
   "source": []
  }
 ],
 "metadata": {
  "kernelspec": {
   "display_name": "Python 3 (ipykernel)",
   "language": "python",
   "name": "python3"
  },
  "language_info": {
   "codemirror_mode": {
    "name": "ipython",
    "version": 3
   },
   "file_extension": ".py",
   "mimetype": "text/x-python",
   "name": "python",
   "nbconvert_exporter": "python",
   "pygments_lexer": "ipython3",
   "version": "3.10.2"
  }
 },
 "nbformat": 4,
 "nbformat_minor": 5
}
