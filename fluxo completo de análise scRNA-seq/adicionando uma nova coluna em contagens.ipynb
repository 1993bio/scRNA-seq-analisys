{
 "cells": [
  {
   "cell_type": "code",
   "execution_count": null,
   "id": "c4031e3e",
   "metadata": {},
   "outputs": [],
   "source": [
    "import numpy as np\n",
    "import pandas as pd\n",
    "import matplotlib.pyplot as plt\n",
    "from multiprocessing import Pool\n",
    "import warnings\n",
    "warnings.filterwarnings(\"ignore\")\n",
    "import multiprocessing as mp\n",
    "import time"
   ]
  },
  {
   "cell_type": "code",
   "execution_count": null,
   "id": "ddbb3ec2",
   "metadata": {},
   "outputs": [],
   "source": [
    "# particionando os dados com o chunksize para usar menos memoria e terminar um pouco mais rápido.\n",
    "s_time_chunk = time.time()\n",
    "chunk = pd.read_csv('contagens_final_ziegler_2.csv', chunksize=1000)\n",
    "e_time_chunk = time.time()\n",
    "  \n",
    "print(\"With chunks: \", (e_time_chunk-s_time_chunk), \"sec\")\n",
    "df = pd.concat(chunk)\n",
    "  \n",
    "# mosrando os dados\n",
    "df"
   ]
  },
  {
   "cell_type": "code",
   "execution_count": null,
   "id": "c59fc99d",
   "metadata": {},
   "outputs": [],
   "source": [
    "# particionando os dados para usar menos memoria e um pouco mais rápido.\n",
    "s_time_chunk1 = time.time()\n",
    "chunk1 = pd.read_csv('metadados_fianal_ziegler_2.csv', chunksize=1000)\n",
    "e_time_chunk1 = time.time()\n",
    "  \n",
    "print(\"With chunks: \", (e_time_chunk1-s_time_chunk1), \"sec\")\n",
    "df1 = pd.concat(chunk1)\n",
    "  \n",
    "# mosrando os dados\n",
    "df1"
   ]
  },
  {
   "cell_type": "code",
   "execution_count": null,
   "id": "12cc37a9",
   "metadata": {},
   "outputs": [],
   "source": [
    "novo = pd.DataFrame(df1['CELL_BARCODES'])\n",
    "novo"
   ]
  },
  {
   "cell_type": "markdown",
   "id": "38f18947",
   "metadata": {},
   "source": [
    " # adicionando a coluna acima nos dados de contagem por .concat"
   ]
  },
  {
   "cell_type": "code",
   "execution_count": null,
   "id": "ca6c9d81",
   "metadata": {},
   "outputs": [],
   "source": [
    "df3 = pd.concat([new, df], axis=1 )"
   ]
  },
  {
   "cell_type": "code",
   "execution_count": null,
   "id": "933592a9",
   "metadata": {},
   "outputs": [],
   "source": [
    "df3"
   ]
  },
  {
   "cell_type": "code",
   "execution_count": null,
   "id": "e53b6f99",
   "metadata": {},
   "outputs": [],
   "source": [
    "df3.to_csv(\"contagens_final_ziegler_22.csv\") # importando o novo dataframe"
   ]
  },
  {
   "cell_type": "code",
   "execution_count": null,
   "id": "17d5ab42",
   "metadata": {},
   "outputs": [],
   "source": []
  },
  {
   "cell_type": "code",
   "execution_count": null,
   "id": "bd75f943",
   "metadata": {},
   "outputs": [],
   "source": []
  }
 ],
 "metadata": {
  "kernelspec": {
   "display_name": "Python 3 (ipykernel)",
   "language": "python",
   "name": "python3"
  },
  "language_info": {
   "codemirror_mode": {
    "name": "ipython",
    "version": 3
   },
   "file_extension": ".py",
   "mimetype": "text/x-python",
   "name": "python",
   "nbconvert_exporter": "python",
   "pygments_lexer": "ipython3",
   "version": "3.10.2"
  }
 },
 "nbformat": 4,
 "nbformat_minor": 5
}
