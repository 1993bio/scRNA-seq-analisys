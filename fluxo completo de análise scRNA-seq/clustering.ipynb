{
 "cells": [
  {
   "cell_type": "markdown",
   "metadata": {},
   "source": [
    "Clustering\n",
    "\n",
    "O clustering não supervisionado é útil em muitas aplicações diferentes e tem sido amplamente estudado no aprendizado de máquina. Algumas das abordagens mais populares são clustering hierárquico e clustering k-means . Esses métodos calculam uma métrica de distância entre as células (muitas vezes com base em uma representação de baixa dimensão, como PCA, tSNE ou UMAP) e, em seguida, agrupam as células de forma iterativa com base nessas distâncias.\n",
    "\n",
    "O gráfico de vizinhos trata cada célula como um nó, com arestas conectando cada nó a seus k vizinhos mais próximos (com base em métricas de distância semelhantes descritas acima). O gráfico é então particionado em módulos com base nessas conectividades. Esses métodos são normalmente mais rápidos do que outros métodos de agrupamento com eficácia semelhante.\n",
    "\n",
    "Uma coisa que praticamente todos os métodos de clustering ou detecção de comunidade têm em comum é uma espécie de parâmetro de resolução . Este parâmetro controla o quão refinado ou grosso são os clusters inferidos. Este parâmetro pode ter efeitos importantes em seus resultados! Exploraremos isso com mais detalhes a seguir\n",
    "\n",
    "Aqui, exploraremos o agrupamento k-means e o método de agrupamento Louvain baseado em gráfico\n",
    "\n",
    "porque K-means: https://www.embopress.org/doi/full/10.15252/msb.20188746 Um artigo que traz as melhores praticas de análise de células unicas.  A subsessão Análise de cluster (clustering) traz melhores detalhes do k-mens e porque da sua utilização."
   ]
  },
  {
   "cell_type": "code",
   "execution_count": null,
   "metadata": {},
   "outputs": [],
   "source": [
    "import scanpy as sc\n",
    "import numpy as np\n",
    "import pandas as pd\n",
    "from sklearn.cluster import KMeans\n",
    "from sklearn.metrics import adjusted_rand_score\n",
    "%matplotlib inline\n",
    "import collections\n",
    "import matplotlib\n",
    "import matplotlib.pyplot as plt\n",
    "from matplotlib import pyplot as plt\n",
    "import h5py\n",
    "import scipy.sparse as sp_sparse\n",
    "\n",
    "%matplotlib inline\n",
    "\n",
    "#lendo os dados salvados anteriormente\n",
    "adata=sc.read('covid_airway_data.h5ad')"
   ]
  },
  {
   "cell_type": "code",
   "execution_count": null,
   "metadata": {},
   "outputs": [],
   "source": [
    "adata # mostradando os dados e variaveis"
   ]
  },
  {
   "cell_type": "code",
   "execution_count": null,
   "metadata": {},
   "outputs": [],
   "source": [
    "\n"
   ]
  },
  {
   "cell_type": "code",
   "execution_count": null,
   "metadata": {},
   "outputs": [],
   "source": [
    "#novo= adata.X\n",
    "#df = pd.DataFrame(novo)\n",
    "#df\n",
    "#df.to_csv('NEW.csv') #criando um novo arquivo apartir dos dados  adata.x do H5AD"
   ]
  },
  {
   "cell_type": "code",
   "execution_count": null,
   "metadata": {},
   "outputs": [],
   "source": [
    "#rodando o k-means e plotando o grafico\n",
    "umap_coordenadas = adata.obsm['X_umap'] # extraindo as coordenadas do umap\n",
    "#kmeans = KMeans(n_clusters=8, random_state=0, algorithm = 'elkan').fit(umap_coordenadas) # executando o k-means\n",
    "\n",
    "#adata.obs['kmeans'] = kmeans.labels_ # recuperando os rótulos e adicionando-os como uma coluna de metadados em nosso objeto AnnData\n",
    "#adata.obs['kmeans'] = adata.obs['kmeans'].astype(str)\n",
    "\n",
    "sc.pl.umap(adata, color=['Annotation'] ) # plotando os resultados"
   ]
  },
  {
   "cell_type": "markdown",
   "metadata": {},
   "source": [
    "Avaliação de clustering \n",
    "\n",
    "Intuitivamente, podemos ver no gráfico que nosso valor de k (o número de clusters) é provavelmente muito baixo.\n",
    "\n",
    "Este conjunto de dados possui rótulos de tipo de célula \"verdadeiros\" disponíveis. Podemos usá-los para avaliar nossos rótulos de cluster com um pouco mais de rigor, usando o índice Rand ajustado . Este índice é uma medida entre (0, 1) que indica a similaridade entre dois conjuntos de rótulos categóricos (por exemplo, nossos rótulos de tipo de célula e rótulos de cluster). Um valor de 1 significa que os dois agrupamentos são idênticos e 0 significa o nível de similaridade esperado por acaso."
   ]
  },
  {
   "cell_type": "code",
   "execution_count": null,
   "metadata": {},
   "outputs": [],
   "source": [
    "avaliador = adjusted_rand_score(labels_true = adata.obs['Annotation'], labels_pred = adata.obs['kmeans'])\n",
    "print('O indice rando ajustado é', round(rand_index, 2))"
   ]
  },
  {
   "cell_type": "markdown",
   "metadata": {},
   "source": [
    "Métodos baseados em gráficos\n",
    "Atualmente, os métodos baseados em gráficos mais amplamente usados para dados de célula única são variantes do algoritmo Louvain . A intuição por trás do algoritmo Louvain é que ele procura áreas do gráfico vizinho que estão mais densamente conectadas do que o esperado (com base na conectividade geral no gráfico)."
   ]
  },
  {
   "cell_type": "code",
   "execution_count": null,
   "metadata": {},
   "outputs": [],
   "source": [
    "sc.tl.louvain(adata, resolution=1, random_state=0)#, flavor='vtraag') # (resolução mais alta significa encontrar mais e menores clusters)\n",
    "sc.pl.umap(adata, color='louvain')\n",
    "avaliador = adjusted_rand_score(adata.obs['Annotation'], adata.obs['louvain'])\n",
    "print('O indice rand ajustato é: ', round(avaliador, 2))"
   ]
  },
  {
   "cell_type": "code",
   "execution_count": null,
   "metadata": {},
   "outputs": [],
   "source": [
    "#help(sc.tl.louvain)\n",
    "#help(adjusted_rand_score)"
   ]
  },
  {
   "cell_type": "code",
   "execution_count": null,
   "metadata": {},
   "outputs": [],
   "source": [
    "adata.write('lavagem_bronco_alveol_clusters_finalized.h5ad')"
   ]
  },
  {
   "cell_type": "code",
   "execution_count": null,
   "metadata": {},
   "outputs": [],
   "source": []
  },
  {
   "cell_type": "code",
   "execution_count": null,
   "metadata": {},
   "outputs": [],
   "source": []
  },
  {
   "cell_type": "code",
   "execution_count": null,
   "metadata": {},
   "outputs": [],
   "source": []
  }
 ],
 "metadata": {
  "kernelspec": {
   "display_name": "Python 3 (ipykernel)",
   "language": "python",
   "name": "python3"
  },
  "language_info": {
   "codemirror_mode": {
    "name": "ipython",
    "version": 3
   },
   "file_extension": ".py",
   "mimetype": "text/x-python",
   "name": "python",
   "nbconvert_exporter": "python",
   "pygments_lexer": "ipython3",
   "version": "3.10.2"
  }
 },
 "nbformat": 4,
 "nbformat_minor": 4
}
