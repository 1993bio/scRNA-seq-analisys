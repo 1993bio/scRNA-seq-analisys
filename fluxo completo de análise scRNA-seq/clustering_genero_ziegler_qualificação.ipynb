{
 "cells": [
  {
   "cell_type": "markdown",
   "metadata": {},
   "source": [
    "# clusterizando celulas por genero os dados de Ziegler et al"
   ]
  },
  {
   "cell_type": "code",
   "execution_count": null,
   "metadata": {},
   "outputs": [],
   "source": [
    "#importando a biblioteca scanpy e lendo os dados processados no caderno anterior.\n",
    "import scanpy as sc\n",
    "import numpy as np\n",
    "import pandas as pd\n",
    "from sklearn.cluster import KMeans\n",
    "from sklearn.metrics import adjusted_rand_score\n",
    "%matplotlib inline\n",
    "import collections\n",
    "import matplotlib\n",
    "import matplotlib.pyplot as plt\n",
    "from matplotlib import pyplot as plt\n",
    "import h5py\n",
    "import scipy.sparse as sp_sparse\n",
    "\n",
    "# definindo os parametros globais de qualidade do SCANPY\n",
    "sc.settings.verbosity = 2  # verbosity: erro (0) perigo (1), info (2), dicas (3)\n",
    "sc.settings.set_figure_params(dpi=600, dpi_save=600, format ='svg',) #qualidade das imagens para 700 DPI (alta resolução)\n",
    "sc.settings.n_jobs = 8 #numero de nucleos utilizado no processamento paralelo (+ core, mais rapido os calculos serão realizados)"
   ]
  },
  {
   "cell_type": "code",
   "execution_count": null,
   "metadata": {},
   "outputs": [],
   "source": [
    "adata = sc.read_h5ad('feminino_normalizado_e_DEGs.h5ad')"
   ]
  },
  {
   "cell_type": "code",
   "execution_count": null,
   "metadata": {},
   "outputs": [],
   "source": [
    "adata"
   ]
  },
  {
   "cell_type": "code",
   "execution_count": null,
   "metadata": {},
   "outputs": [],
   "source": [
    "#tSNE é um algoritmo estocástico, o que significa que executar o método várias vezes\n",
    "\n",
    "sc.tl.tsne(adata, perplexity=30,\n",
    "           learning_rate=1000, \n",
    "           metric= 'euclidean', \n",
    "           early_exaggeration= 12,\n",
    "           n_jobs = 8,\n",
    "           random_state=0) \n",
    "\n",
    "\n",
    "#help(sc.tl.tsne)\n",
    "#help(sc.pl.tsne)"
   ]
  },
  {
   "cell_type": "code",
   "execution_count": null,
   "metadata": {},
   "outputs": [],
   "source": [
    "#plotando o TSNE\n",
    "sc.pl.tsne(adata, color='Annotation',\n",
    "          title= 'Agrupamento tSNE de células de \\n tecido nasofaríngeo feminino',\n",
    "          save ='tSNE_feminino_ziegler.svg') # para anotações de células"
   ]
  },
  {
   "cell_type": "code",
   "execution_count": null,
   "metadata": {},
   "outputs": [],
   "source": [
    "#plotando o TSNE\n",
    "#plotando o TSNE\n",
    "sc.pl.tsne(adata, color='Detailed_Cell_Annotations',\n",
    "          title= 'Agrupamento tSNE detalhado de células do \\n tecido nasofaríngeo feminino',\n",
    "           legend_loc= 'right margin',\n",
    "          save ='tSNE_detalhado_feminino_ziegler.svg') # para anotações de células"
   ]
  },
  {
   "cell_type": "markdown",
   "metadata": {},
   "source": [
    "# criando o UMAP"
   ]
  },
  {
   "cell_type": "code",
   "execution_count": null,
   "metadata": {},
   "outputs": [],
   "source": [
    "# rodando o calculo de visinhos\n",
    "sc.pp.neighbors(adata) # O umap é baseado em um modelo de vizinhos, por isso usamos essa função."
   ]
  },
  {
   "cell_type": "code",
   "execution_count": null,
   "metadata": {},
   "outputs": [],
   "source": [
    "# rodando o UMAP\n",
    "sc.tl.umap(adata, min_dist=0.5, spread=1.0, random_state=0, n_components=2)"
   ]
  },
  {
   "cell_type": "code",
   "execution_count": null,
   "metadata": {},
   "outputs": [],
   "source": [
    "#plotando o grafico UMAP\n",
    "sc.pl.umap(adata, color=['Annotation'],\n",
    "          title= 'Agrupamento UMAP de células do tecido \\n nasofaríngeo feminino',\n",
    "          save ='umap_feminino_ziegler.svg')"
   ]
  },
  {
   "cell_type": "code",
   "execution_count": null,
   "metadata": {},
   "outputs": [],
   "source": [
    "sc.pl.umap(adata, color=['Detailed_Cell_Annotations'],\n",
    "          title= 'Agrupamento UMAP detalhado de células do \\n tecido nasofaríngeo feminino',\n",
    "          save ='umap_detalhado_feminino_ziegler.svg')"
   ]
  },
  {
   "cell_type": "code",
   "execution_count": null,
   "metadata": {},
   "outputs": [],
   "source": [
    "#plotando o grafico UMAP para TMPRSS2\n",
    "sc.pl.umap(adata, color=['TMPRSS2'],\n",
    "           s=20,\n",
    "          title =' Nivel de expressão de $\\it{TMPRSS2}$ \\n sobre cada agrupamento',\n",
    "          save ='umap_TMPRSS2_feminino_ziegler.svg')"
   ]
  },
  {
   "cell_type": "code",
   "execution_count": null,
   "metadata": {},
   "outputs": [],
   "source": [
    "#plotando o grafico UMAP para ACE2\n",
    "sc.pl.umap(adata, color=['ACE2'],\n",
    "           s=20,\n",
    "           title =' Nivel de expressão de $\\it{ACE2}$ \\n sobre cada agrupamento',\n",
    "           save ='umap_ace2_feminino_ziegler.svg')"
   ]
  },
  {
   "cell_type": "code",
   "execution_count": null,
   "metadata": {},
   "outputs": [],
   "source": [
    "#plotando o grafico UMAP para ACE2\n",
    "sc.pl.umap(adata, color=['AR'],\n",
    "           s=20,\n",
    "           title =' Nivel de expressão de $\\it{AR}$ \\n sobre cada agrupamento',\n",
    "           save ='umap_AR_feminino_ziegler.svg')"
   ]
  },
  {
   "cell_type": "code",
   "execution_count": null,
   "metadata": {},
   "outputs": [],
   "source": [
    "#plotando o grafico UMAP para sexo\n",
    "sc.pl.umap(adata, color=['sex'],\n",
    "           s=7,\n",
    "           title =' Agrupamento UMAP das células \\n do genero masculino',\n",
    "           save ='umap_sexo_feminino_ziegler.svg')"
   ]
  },
  {
   "cell_type": "markdown",
   "metadata": {},
   "source": [
    "# exportando a quantidade de células no agrupamento masculino"
   ]
  },
  {
   "cell_type": "code",
   "execution_count": null,
   "metadata": {},
   "outputs": [],
   "source": [
    "#Verificando o tipo e o numero de células\n",
    "ncell_1=adata.obs[['Annotation']].value_counts()\n",
    "ncell_1.to_excel(\"annotation_feminino.xlsx\")\n",
    "ncell_1"
   ]
  },
  {
   "cell_type": "code",
   "execution_count": null,
   "metadata": {},
   "outputs": [],
   "source": [
    "#observado subgrupos de células\n",
    "ncell_2=adata.obs[['Detailed_Cell_Annotations']].value_counts()\n",
    "ncell_2.to_excel(\"celulas_feminino_detalhadas.xlsx\")\n",
    "ncell_2"
   ]
  },
  {
   "cell_type": "code",
   "execution_count": null,
   "metadata": {},
   "outputs": [],
   "source": []
  },
  {
   "cell_type": "code",
   "execution_count": null,
   "metadata": {},
   "outputs": [],
   "source": [
    "#atualizando o H5ad\n",
    "adata.write('feminino_normalizado_cluster_e_DEGs.h5ad')\n"
   ]
  },
  {
   "cell_type": "code",
   "execution_count": null,
   "metadata": {},
   "outputs": [],
   "source": []
  },
  {
   "cell_type": "code",
   "execution_count": null,
   "metadata": {},
   "outputs": [],
   "source": []
  },
  {
   "cell_type": "code",
   "execution_count": null,
   "metadata": {},
   "outputs": [],
   "source": []
  }
 ],
 "metadata": {
  "kernelspec": {
   "display_name": "Python 3 (ipykernel)",
   "language": "python",
   "name": "python3"
  },
  "language_info": {
   "codemirror_mode": {
    "name": "ipython",
    "version": 3
   },
   "file_extension": ".py",
   "mimetype": "text/x-python",
   "name": "python",
   "nbconvert_exporter": "python",
   "pygments_lexer": "ipython3",
   "version": "3.10.2"
  }
 },
 "nbformat": 4,
 "nbformat_minor": 4
}
