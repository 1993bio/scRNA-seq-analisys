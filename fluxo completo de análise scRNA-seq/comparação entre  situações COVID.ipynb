{
 "cells": [
  {
   "cell_type": "code",
   "execution_count": null,
   "id": "27db4320",
   "metadata": {},
   "outputs": [],
   "source": [
    "import scanpy as sc\n",
    "import matplotlib.pyplot as plt\n",
    "import pandas as pd\n",
    "import numpy as np\n",
    "import gseapy\n",
    "from scipy.stats import ttest_ind # importando uma biblioteca estatistica do scipy\n",
    "from multiprocessing import Pool\n",
    "import warnings\n",
    "warnings.filterwarnings(\"ignore\")\n",
    "sc.settings.verbosity = 3            \n",
    "sc.logging.print_header()"
   ]
  },
  {
   "cell_type": "code",
   "execution_count": null,
   "id": "d080c45f",
   "metadata": {},
   "outputs": [],
   "source": [
    "adata = sc.read_h5ad('Ziegler_final_2.h5ad') #inserir os dados com os nomes corretos para leitura\n",
    "adata"
   ]
  },
  {
   "cell_type": "markdown",
   "id": "7d5ec7cb",
   "metadata": {},
   "source": [
    "# análise de qualidade"
   ]
  },
  {
   "cell_type": "code",
   "execution_count": null,
   "id": "171429ec",
   "metadata": {},
   "outputs": [],
   "source": [
    "adata.var['mt'] = adata.var_names.str.startswith('MT-')\n",
    "qc = sc.pp.calculate_qc_metrics(adata, qc_vars=['mt'], percent_top=None, log1p=False, inplace=True)"
   ]
  },
  {
   "cell_type": "code",
   "execution_count": null,
   "id": "cf0c8cbf",
   "metadata": {},
   "outputs": [],
   "source": [
    "sc.pl.violin(adata, ['n_genes_by_counts', 'total_counts', 'pct_counts_mt'],\n",
    "             jitter=0.4, multi_panel=True)"
   ]
  },
  {
   "cell_type": "code",
   "execution_count": null,
   "id": "3c6888b6",
   "metadata": {},
   "outputs": [],
   "source": [
    "sc.pl.scatter(adata, x='total_counts', y='pct_counts_mt' )\n",
    "sc.pl.scatter(adata, x='total_counts', y='n_genes_by_counts')"
   ]
  },
  {
   "cell_type": "code",
   "execution_count": null,
   "id": "9a44855d",
   "metadata": {},
   "outputs": [],
   "source": [
    "adata = adata[adata.obs.n_genes_by_counts < 6000, :]\n",
    "adata = adata[adata.obs.pct_counts_mt < 40, :]"
   ]
  },
  {
   "cell_type": "code",
   "execution_count": null,
   "id": "d8ca8f61",
   "metadata": {},
   "outputs": [],
   "source": [
    "sc.pl.violin(adata, ['n_genes_by_counts', 'total_counts', 'pct_counts_mt'],\n",
    "             jitter=0.4, multi_panel=True)"
   ]
  },
  {
   "cell_type": "code",
   "execution_count": null,
   "id": "69236a44",
   "metadata": {},
   "outputs": [],
   "source": [
    "adata"
   ]
  },
  {
   "cell_type": "markdown",
   "id": "06668b02",
   "metadata": {},
   "source": [
    "#                                            checkpoint \n",
    "# melhor salvar para não perder trabalho feito até aqui, então exporte os dados"
   ]
  },
  {
   "cell_type": "code",
   "execution_count": null,
   "id": "bec45e3d",
   "metadata": {},
   "outputs": [],
   "source": [
    "#adata.write('feminino_quality.h5ad')"
   ]
  },
  {
   "cell_type": "code",
   "execution_count": null,
   "id": "f9859c9a",
   "metadata": {},
   "outputs": [],
   "source": [
    "#adata = sc.read_h5ad('masculino_quality.h5ad') #usar somente se for reiniciar a análise\n"
   ]
  },
  {
   "cell_type": "markdown",
   "id": "c340a4af",
   "metadata": {},
   "source": [
    "# Preprocessamento e escalonamento"
   ]
  },
  {
   "cell_type": "code",
   "execution_count": null,
   "id": "1a34ddc0",
   "metadata": {},
   "outputs": [],
   "source": [
    "#normalizando por CPM\n",
    "adata_CPM = adata.copy() \n",
    "adata_CPM.raw = adata_CPM \n",
    "sc.pp.normalize_total(adata_CPM,\n",
    "                      target_sum =1e6)"
   ]
  },
  {
   "cell_type": "code",
   "execution_count": null,
   "id": "a93efb24",
   "metadata": {},
   "outputs": [],
   "source": [
    "#sc.pp.pca(adata_CM)\n",
    "#sc.pl.pca_overview(adata_CM, color='Cohort_Disease_WHO_Score')"
   ]
  },
  {
   "cell_type": "code",
   "execution_count": null,
   "id": "3916e94b",
   "metadata": {},
   "outputs": [],
   "source": [
    "#not_malat1 = adata_CM.var.index != 'MALAT1' \n",
    "#adata_no_malat1 = adata_CM[:, not_malat1]\n",
    "\n",
    "#sc.pp.pca(adata_no_malat1)\n",
    "#sc.pl.pca_overview(adata_no_malat1, color='Cohort_Disease_WHO_Score')"
   ]
  },
  {
   "cell_type": "code",
   "execution_count": null,
   "id": "7524331a",
   "metadata": {},
   "outputs": [],
   "source": [
    "sc.pp.log1p(adata_CPM)"
   ]
  },
  {
   "cell_type": "code",
   "execution_count": null,
   "id": "1fceb75c",
   "metadata": {},
   "outputs": [],
   "source": [
    "sc.pp.highly_variable_genes(adata_CPM, min_mean=0.0125, max_mean=3, min_disp=0.5)"
   ]
  },
  {
   "cell_type": "code",
   "execution_count": null,
   "id": "317aba03",
   "metadata": {},
   "outputs": [],
   "source": [
    "sc.pl.highly_variable_genes(adata_CPM)"
   ]
  },
  {
   "cell_type": "code",
   "execution_count": null,
   "id": "e100a7cc",
   "metadata": {},
   "outputs": [],
   "source": [
    "adata_CPM.raw = adata_CPM"
   ]
  },
  {
   "cell_type": "code",
   "execution_count": null,
   "id": "5b27c492",
   "metadata": {},
   "outputs": [],
   "source": [
    "adata_CPM = adata_CPM[:, adata_CPM.var.highly_variable]"
   ]
  },
  {
   "cell_type": "code",
   "execution_count": null,
   "id": "69b1ee8c",
   "metadata": {},
   "outputs": [],
   "source": [
    "sc.pp.regress_out(adata_CPM, ['total_counts', 'pct_counts_mt'])"
   ]
  },
  {
   "cell_type": "code",
   "execution_count": null,
   "id": "b822f80e",
   "metadata": {},
   "outputs": [],
   "source": [
    "sc.pp.scale(adata_CPM)\n"
   ]
  },
  {
   "cell_type": "code",
   "execution_count": null,
   "id": "c534070d",
   "metadata": {},
   "outputs": [],
   "source": [
    "sc.tl.pca(adata_CPM, svd_solver='arpack')\n",
    "sc.pl.pca_overview(adata_CPM, color='Cohort_Disease_WHO_Score')"
   ]
  },
  {
   "cell_type": "markdown",
   "id": "9aac3a95",
   "metadata": {},
   "source": [
    "# Check point"
   ]
  },
  {
   "cell_type": "code",
   "execution_count": null,
   "id": "09d5b462",
   "metadata": {},
   "outputs": [],
   "source": [
    "#adata_CPM.write('ziegler_final_CPM_normalizado.h5ad')"
   ]
  },
  {
   "cell_type": "code",
   "execution_count": null,
   "id": "3faa8804",
   "metadata": {},
   "outputs": [],
   "source": [
    "#adata = sc.read_h5ad('masculino_normalizado.h5ad') #usar somente se for reiniciar a análise"
   ]
  },
  {
   "cell_type": "code",
   "execution_count": null,
   "id": "dfaa9d00",
   "metadata": {},
   "outputs": [],
   "source": [
    "sc.tl.rank_genes_groups(adata_CPM, 'Cohort_Disease_WHO_Score',\n",
    "                        groups=['COVID19_WHO_6-8'], \n",
    "                        reference='Ctrl_WHO_0', \n",
    "                        method='t-test',\n",
    "                        key_added = 'WHO_6-8_vs_ctrl')"
   ]
  },
  {
   "cell_type": "code",
   "execution_count": null,
   "id": "fb124c3a",
   "metadata": {},
   "outputs": [],
   "source": [
    "adata_CPM"
   ]
  },
  {
   "cell_type": "code",
   "execution_count": null,
   "id": "27a35443",
   "metadata": {},
   "outputs": [],
   "source": [
    "mynames = [x[0] for x in adata_CPM.uns['WHO_6-8_vs_ctrl']['names'][:30]]\n",
    "sc.pl.matrixplot(adata_CPM, mynames, groupby = 'Cohort_Disease_WHO_Score')# save = 'heat_Conval_vs_WHO_6-8.pdf')"
   ]
  },
  {
   "cell_type": "markdown",
   "id": "b0dd1f09",
   "metadata": {},
   "source": [
    "# importando os DEGs"
   ]
  },
  {
   "cell_type": "code",
   "execution_count": null,
   "id": "eca2a9f4",
   "metadata": {},
   "outputs": [],
   "source": [
    "tab_dif4 = sc.get.rank_genes_groups_df(adata_CPM, key = 'WHO_6-8_vs_ctrl', group= None) #cut of seleciona oas genes masi "
   ]
  },
  {
   "cell_type": "code",
   "execution_count": null,
   "id": "f7baf92c",
   "metadata": {},
   "outputs": [],
   "source": [
    "tab_dif4"
   ]
  },
  {
   "cell_type": "markdown",
   "id": "042f592b",
   "metadata": {},
   "source": [
    "# checkpoint, usar apenas depois de realizar todos DEGS"
   ]
  },
  {
   "cell_type": "code",
   "execution_count": null,
   "id": "7cc848a5",
   "metadata": {},
   "outputs": [],
   "source": [
    "#adata_CPM.write('ziegler_final_CPM_normalizado.h5ad') # usar depois de realizar todas as comparações e adicionar uma key para salvar as estatisticas"
   ]
  },
  {
   "cell_type": "markdown",
   "id": "27888cfe",
   "metadata": {},
   "source": [
    "# Exportando as tabelas de DEGs"
   ]
  },
  {
   "cell_type": "code",
   "execution_count": null,
   "id": "b302aa71",
   "metadata": {},
   "outputs": [],
   "source": [
    "#exportando as tabelas DEGs\n",
    "tab_dif4.to_csv(\"DEGS_feminino_Conval_vs_WHO_6-8.csv\", sep=\",\")"
   ]
  },
  {
   "cell_type": "code",
   "execution_count": null,
   "id": "e07daaf0",
   "metadata": {},
   "outputs": [],
   "source": [
    "tab_dif4.to_excel(\"DEGS_feminino_Conval_vs_WHO_6-8.xlsx\")"
   ]
  },
  {
   "cell_type": "markdown",
   "id": "f5ab58ba",
   "metadata": {},
   "source": [
    "# plotando um grafico de violino para genes de interesse"
   ]
  },
  {
   "cell_type": "code",
   "execution_count": null,
   "id": "ca299fd1",
   "metadata": {},
   "outputs": [],
   "source": [
    "sc.pl.violin(adata_CPM, ['TMPRSS2'],\n",
    "             groupby='sex',\n",
    "             scale ='width',\n",
    "             rotation =90,\n",
    "             ylabel = 'Expressão média de $\\it{TMPRSS2}$',\n",
    "             stripplot =True,\n",
    "             jitter= True,\n",
    "             size =1,\n",
    "             title = 'Variação da expressão de TMPRSS2 por genero',\n",
    "             save ='TMPRSS2_genero.png')"
   ]
  },
  {
   "cell_type": "code",
   "execution_count": null,
   "id": "fa678208",
   "metadata": {},
   "outputs": [],
   "source": [
    "sc.pl.violin(adata_CPM, ['ACE2'], \n",
    "             groupby='sex',\n",
    "             scale ='width',\n",
    "             rotation =90,\n",
    "             ylabel = 'Expressão média de $\\it{ACE2}$',\n",
    "             stripplot =True,\n",
    "             jitter= True,\n",
    "             size =1,\n",
    "             title = 'Variação da expressão de ACE por genero',\n",
    "             save ='ACE2_genero.png')"
   ]
  },
  {
   "cell_type": "code",
   "execution_count": null,
   "id": "72599284",
   "metadata": {},
   "outputs": [],
   "source": [
    "sc.pl.violin(adata_CPM, ['AR'], \n",
    "             groupby='sex',\n",
    "             scale ='width',\n",
    "             rotation =90,\n",
    "             ylabel = 'Expressão média de $\\it{AR}$',\n",
    "             stripplot =True,\n",
    "             jitter= True,\n",
    "             size =1,\n",
    "             title = 'Variação da expressão de AR por genero',\n",
    "             save ='AR_genero.png')"
   ]
  },
  {
   "cell_type": "code",
   "execution_count": null,
   "id": "ae83f441",
   "metadata": {},
   "outputs": [],
   "source": [
    "markers =['TMPRSS2','ACE2','AR']"
   ]
  },
  {
   "cell_type": "code",
   "execution_count": null,
   "id": "1f378e05",
   "metadata": {},
   "outputs": [],
   "source": [
    "sc.pl.stacked_violin(adata_CPM, markers,\n",
    "                     groupby='sex',\n",
    "                     log=False,\n",
    "                     row_palette = 'hls',\n",
    "                     standard_scale= 'var',\n",
    "                     stripplot= True,\n",
    "                     jitter= True,\n",
    "                     size= 1,\n",
    "                     swap_axes= False,\n",
    "                     scale='width',\n",
    "                     title= \"Expressão dos genes $\\it{TMPRSS2}$, $\\it{ACE2}$ e $\\it{AR}$ em pacientes do gênero \\n masculino (M) e feminino (F)\",\n",
    "                     figsize= (10,10),\n",
    "                     save= 'violino_masculino_todos_generos.png')"
   ]
  },
  {
   "cell_type": "markdown",
   "id": "df153e13",
   "metadata": {},
   "source": [
    "# heat map para os genes mais diferencialmente expressos entre os degs, usar os genes mais sig donw e sig up para gerar o mynames"
   ]
  },
  {
   "cell_type": "code",
   "execution_count": null,
   "id": "1085db58",
   "metadata": {},
   "outputs": [],
   "source": [
    "#mynames = [x[0] for x in adata_CPM.uns['Deg_WHO_1-5_vs_Ctrl']['names'][:10000]]\n",
    "sc.pl.heatmap(adata_CPM, mynames, groupby = 'Cohort_Disease_WHO_Score')"
   ]
  },
  {
   "cell_type": "markdown",
   "id": "bff666d8",
   "metadata": {},
   "source": [
    "#  daqui em diante, eve-se fazer o enrriquecimento de conjunto de genes"
   ]
  },
  {
   "cell_type": "code",
   "execution_count": null,
   "id": "6b2376db",
   "metadata": {},
   "outputs": [],
   "source": []
  },
  {
   "cell_type": "code",
   "execution_count": null,
   "id": "83f52368",
   "metadata": {},
   "outputs": [],
   "source": []
  },
  {
   "cell_type": "code",
   "execution_count": null,
   "id": "f5011a0e",
   "metadata": {},
   "outputs": [],
   "source": []
  },
  {
   "cell_type": "code",
   "execution_count": null,
   "id": "8babd1e6",
   "metadata": {},
   "outputs": [],
   "source": []
  },
  {
   "cell_type": "code",
   "execution_count": null,
   "id": "abbf97cc",
   "metadata": {},
   "outputs": [],
   "source": []
  },
  {
   "cell_type": "code",
   "execution_count": null,
   "id": "bacdca17",
   "metadata": {},
   "outputs": [],
   "source": []
  },
  {
   "cell_type": "code",
   "execution_count": null,
   "id": "a74738e4",
   "metadata": {},
   "outputs": [],
   "source": []
  },
  {
   "cell_type": "code",
   "execution_count": null,
   "id": "991c9aaf",
   "metadata": {},
   "outputs": [],
   "source": [
    "\n"
   ]
  },
  {
   "cell_type": "code",
   "execution_count": null,
   "id": "20a07015",
   "metadata": {},
   "outputs": [],
   "source": []
  },
  {
   "cell_type": "code",
   "execution_count": null,
   "id": "9b31aba3",
   "metadata": {},
   "outputs": [],
   "source": []
  },
  {
   "cell_type": "code",
   "execution_count": null,
   "id": "13efd9ba",
   "metadata": {},
   "outputs": [],
   "source": []
  },
  {
   "cell_type": "code",
   "execution_count": null,
   "id": "1a8719db",
   "metadata": {},
   "outputs": [],
   "source": []
  },
  {
   "cell_type": "code",
   "execution_count": null,
   "id": "fcdfa651",
   "metadata": {},
   "outputs": [],
   "source": [
    "              "
   ]
  },
  {
   "cell_type": "code",
   "execution_count": null,
   "id": "b584eed0",
   "metadata": {},
   "outputs": [],
   "source": [
    "\n"
   ]
  },
  {
   "cell_type": "code",
   "execution_count": null,
   "id": "3c841857",
   "metadata": {},
   "outputs": [],
   "source": []
  },
  {
   "cell_type": "code",
   "execution_count": null,
   "id": "663a583c",
   "metadata": {},
   "outputs": [],
   "source": [
    "\n"
   ]
  },
  {
   "cell_type": "code",
   "execution_count": null,
   "id": "ab3812a3",
   "metadata": {},
   "outputs": [],
   "source": []
  },
  {
   "cell_type": "code",
   "execution_count": null,
   "id": "8e17e8b4",
   "metadata": {},
   "outputs": [],
   "source": []
  },
  {
   "cell_type": "code",
   "execution_count": null,
   "id": "29a181af",
   "metadata": {},
   "outputs": [],
   "source": [
    "\n"
   ]
  },
  {
   "cell_type": "markdown",
   "id": "adcf3cb4",
   "metadata": {},
   "source": []
  },
  {
   "cell_type": "markdown",
   "id": "7e1db436",
   "metadata": {},
   "source": []
  },
  {
   "cell_type": "code",
   "execution_count": null,
   "id": "b291afdf",
   "metadata": {},
   "outputs": [],
   "source": []
  },
  {
   "cell_type": "code",
   "execution_count": null,
   "id": "d6d72a9c",
   "metadata": {},
   "outputs": [],
   "source": []
  },
  {
   "cell_type": "code",
   "execution_count": null,
   "id": "52a1b2ba",
   "metadata": {},
   "outputs": [],
   "source": []
  },
  {
   "cell_type": "code",
   "execution_count": null,
   "id": "5c4ea223",
   "metadata": {},
   "outputs": [],
   "source": []
  },
  {
   "cell_type": "code",
   "execution_count": null,
   "id": "6571fa2b",
   "metadata": {},
   "outputs": [],
   "source": []
  }
 ],
 "metadata": {
  "kernelspec": {
   "display_name": "Python 3 (ipykernel)",
   "language": "python",
   "name": "python3"
  },
  "language_info": {
   "codemirror_mode": {
    "name": "ipython",
    "version": 3
   },
   "file_extension": ".py",
   "mimetype": "text/x-python",
   "name": "python",
   "nbconvert_exporter": "python",
   "pygments_lexer": "ipython3",
   "version": "3.10.2"
  }
 },
 "nbformat": 4,
 "nbformat_minor": 5
}
