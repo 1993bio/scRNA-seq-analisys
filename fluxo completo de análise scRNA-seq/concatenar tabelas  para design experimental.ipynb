{
 "cells": [
  {
   "cell_type": "markdown",
   "id": "560aeb30",
   "metadata": {},
   "source": [
    " # Uniremos as tabelas de scRNA-seq como exemplificado na imagem abaixo"
   ]
  },
  {
   "cell_type": "markdown",
   "id": "64850463",
   "metadata": {},
   "source": [
    "<br>\n",
    "Juntando tabelas com o a função pd.concat do pandas:<br>\n",
    "<img src= \"merging_concat_basic.png\">"
   ]
  },
  {
   "cell_type": "code",
   "execution_count": null,
   "id": "38a10565",
   "metadata": {},
   "outputs": [],
   "source": [
    "import pandas as pd"
   ]
  },
  {
   "cell_type": "markdown",
   "id": "4a8c4886",
   "metadata": {},
   "source": [
    "#  Tabela Contagens"
   ]
  },
  {
   "cell_type": "code",
   "execution_count": null,
   "id": "db74f3e9",
   "metadata": {},
   "outputs": [],
   "source": [
    "# leitura da tabela de contagens de pacientes controle \n",
    "cont_coltrole = pd.read_csv('contagens_pacientes-masculino_neg_ctrl_WHO_0.csv', index_col = 1) # usar a primeira coluna para rotular como o \"indice\"\n",
    "cont_coltrole"
   ]
  },
  {
   "cell_type": "code",
   "execution_count": null,
   "id": "5c2ce3fe",
   "metadata": {},
   "outputs": [],
   "source": [
    "# leitura da tabela de contagens de pacientes infectados\n",
    "cont_infectado = pd.read_csv('contagens_pacientes-masculino_neg_convalescentes.csv', index_col = 1) # usar a primeira coluna para rotular como o \"indice\"\n",
    "cont_infectado"
   ]
  },
  {
   "cell_type": "markdown",
   "id": "95b3adcf",
   "metadata": {},
   "source": [
    "#  Tabela Metadados"
   ]
  },
  {
   "cell_type": "code",
   "execution_count": null,
   "id": "b94735da",
   "metadata": {},
   "outputs": [],
   "source": [
    "# leitura da tebela de metadados de pacientes controle\n",
    "metadata_controle = pd.read_csv('metadados_pacientes-masculino_neg_ctrl_WHO_0.csv', index_col = 1) # usar a primeira coluna para rotular como o \"indice\"\n",
    "metadata_controle"
   ]
  },
  {
   "cell_type": "code",
   "execution_count": null,
   "id": "f3eeb5a0",
   "metadata": {},
   "outputs": [],
   "source": [
    "# leitura de metadados de pacientes infectados \n",
    "metadata_infectado = pd.read_csv('metadados_pacientes-masculino_neg_convalescentes.csv', index_col = 1) # usar a primeira coluna para rotular como o \"indice\"\n",
    "metadata_infectado"
   ]
  },
  {
   "cell_type": "markdown",
   "id": "0b2c07bf",
   "metadata": {},
   "source": [
    "# juntando tabelas de contagens"
   ]
  },
  {
   "cell_type": "code",
   "execution_count": null,
   "id": "61679e07",
   "metadata": {},
   "outputs": [],
   "source": [
    "# em frame1 colocamos as tabelas de contagens que queremos unir \n",
    "frames1 = [cont_coltrole, cont_infectado] "
   ]
  },
  {
   "cell_type": "code",
   "execution_count": null,
   "id": "470ecc7e",
   "metadata": {},
   "outputs": [],
   "source": [
    "# comando que junta as tabelelas de contagens\n",
    "result1 = pd.concat(frames1)\n"
   ]
  },
  {
   "cell_type": "code",
   "execution_count": null,
   "id": "979c8de9",
   "metadata": {},
   "outputs": [],
   "source": [
    "# mostrando o resultado das junções\n",
    "result1"
   ]
  },
  {
   "cell_type": "markdown",
   "id": "1507fb1a",
   "metadata": {},
   "source": [
    "# Juntando tabelas de metadados "
   ]
  },
  {
   "cell_type": "code",
   "execution_count": null,
   "id": "eef8557e",
   "metadata": {},
   "outputs": [],
   "source": [
    "# em frame2 colocamos as tabelas de metadados que queremos unir\n",
    "frames2 = [metadata_controle, metadata_infectado]"
   ]
  },
  {
   "cell_type": "code",
   "execution_count": null,
   "id": "16673e60",
   "metadata": {},
   "outputs": [],
   "source": [
    "# comando que junta as tabelas de metadados\n",
    "result2 = pd.concat(frames2)\n"
   ]
  },
  {
   "cell_type": "code",
   "execution_count": null,
   "id": "01293a78",
   "metadata": {},
   "outputs": [],
   "source": [
    "# mostrando o resultado das junções\n",
    "result2"
   ]
  },
  {
   "cell_type": "markdown",
   "id": "3b96e09c",
   "metadata": {},
   "source": [
    "# exportando as tabelas concatenadas como .csv"
   ]
  },
  {
   "cell_type": "code",
   "execution_count": null,
   "id": "f761ddbb",
   "metadata": {},
   "outputs": [],
   "source": [
    "# exportando a tabela de contagens\n",
    "result1.to_csv('contagens_ctro_WHO-0_vs_conv.csv') # lembrar de mudar o nome do arquivo de acordo com as observações experimentais "
   ]
  },
  {
   "cell_type": "code",
   "execution_count": null,
   "id": "6de1bf56",
   "metadata": {},
   "outputs": [],
   "source": [
    "#exportando a tabela de metadados\n",
    "result2.to_csv('contagens_ctro_WHO-0_vs_conv.csv')# lembrar de mudar o nome do arquivo de acordo com as observações experimentais "
   ]
  },
  {
   "cell_type": "code",
   "execution_count": null,
   "id": "e9802bdd",
   "metadata": {},
   "outputs": [],
   "source": []
  }
 ],
 "metadata": {
  "kernelspec": {
   "display_name": "Python 3 (ipykernel)",
   "language": "python",
   "name": "python3"
  },
  "language_info": {
   "codemirror_mode": {
    "name": "ipython",
    "version": 3
   },
   "file_extension": ".py",
   "mimetype": "text/x-python",
   "name": "python",
   "nbconvert_exporter": "python",
   "pygments_lexer": "ipython3",
   "version": "3.10.2"
  }
 },
 "nbformat": 4,
 "nbformat_minor": 5
}
