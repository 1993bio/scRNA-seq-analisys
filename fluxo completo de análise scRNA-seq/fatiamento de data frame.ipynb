{
 "cells": [
  {
   "cell_type": "code",
   "execution_count": null,
   "id": "2c5ede6d",
   "metadata": {},
   "outputs": [],
   "source": [
    "import numpy as np\n",
    "import pandas as pd\n",
    "import matplotlib.pyplot as plt\n",
    "from multiprocessing import Pool\n",
    "import warnings\n",
    "warnings.filterwarnings(\"ignore\")\n",
    "import multiprocessing as mp\n",
    "import time\n",
    "import seaborn as sns\n",
    "import matplotlib.ticker as ticker\n",
    "import scprep"
   ]
  },
  {
   "cell_type": "code",
   "execution_count": null,
   "id": "5a430595",
   "metadata": {},
   "outputs": [],
   "source": [
    "# carregando os dados em partes. Isso nao acaba com a memoria ram\n",
    "s_time_chunk = time.time()\n",
    "chunk = pd.read_csv('Tabela_final_Ziegler_2.csv', chunksize=8000)\n",
    "e_time_chunk = time.time()\n",
    "  \n",
    "print(\"With chunks: \", (e_time_chunk-s_time_chunk), \"sec\")\n",
    "df = pd.concat(chunk)"
   ]
  },
  {
   "cell_type": "code",
   "execution_count": null,
   "id": "69eb2bab",
   "metadata": {},
   "outputs": [],
   "source": [
    "df"
   ]
  },
  {
   "cell_type": "code",
   "execution_count": null,
   "id": "33528e0d",
   "metadata": {},
   "outputs": [],
   "source": []
  },
  {
   "cell_type": "code",
   "execution_count": null,
   "id": "2864ce86",
   "metadata": {},
   "outputs": [],
   "source": [
    "# deletando colunas que foram criadas na escrita do csv\n",
    "del df['ObjectCreateData']\n",
    "df"
   ]
  },
  {
   "cell_type": "code",
   "execution_count": null,
   "id": "4c576cfe",
   "metadata": {},
   "outputs": [],
   "source": [
    "df.drop(df.loc[df['Cohort_Disease_WHO_Score']=='Control_WHO_8'].index, inplace=True)\n"
   ]
  },
  {
   "cell_type": "code",
   "execution_count": null,
   "id": "5bea98be",
   "metadata": {},
   "outputs": [],
   "source": [
    "df"
   ]
  },
  {
   "cell_type": "code",
   "execution_count": null,
   "id": "4e554f4a",
   "metadata": {},
   "outputs": [],
   "source": [
    "df[\"sex\"].replace({\"male\": \"M\", \"female\": \"F\"}, inplace=True) # trocando valores de um indice de uma coluna\n",
    "df[\"Cohort_Disease_WHO_Score\"].replace({\"ConvalescentCOVID19_WHO_0\": \"Convalescente\", \"Control_WHO_8\": \"Ctrl_WHO_8\", 'Control_WHO_0':'Ctrl_WHO_0'}, inplace=True) # trocando valores de um indice de uma coluna"
   ]
  },
  {
   "cell_type": "code",
   "execution_count": null,
   "id": "19fbf092",
   "metadata": {},
   "outputs": [],
   "source": [
    "df"
   ]
  },
  {
   "cell_type": "markdown",
   "id": "3babd9ec",
   "metadata": {},
   "source": [
    "# Selecionando parte dos ddos por grupo de interesse"
   ]
  },
  {
   "cell_type": "code",
   "execution_count": null,
   "id": "08bc9ba7",
   "metadata": {},
   "outputs": [],
   "source": [
    "#selecionando somente as linhas que possuem valores cujos pacientes são negativos para sars-cov-2\n",
    "mascara=df['sex']=='M' # aqui colocar as colunas e dps as linhas que deseja separar os dados\n",
    "posicao = np.flatnonzero(mascara)\n",
    "filter_df=df.iloc[posicao]\n",
    "filter_df"
   ]
  },
  {
   "cell_type": "code",
   "execution_count": null,
   "id": "bb7c1766",
   "metadata": {},
   "outputs": [],
   "source": [
    "#selecionando somente as linhas que possuem valores cujos pacientes são negativos para sars-cov-2\n",
    "mascara_1=df['sex']=='F' # aqui colocar as colunas e dps as linhas que deseja separar os dados\n",
    "posicao_1 = np.flatnonzero(mascara_1)\n",
    "filter_df1=df.iloc[posicao_1]\n",
    "filter_df1"
   ]
  },
  {
   "cell_type": "markdown",
   "id": "c5fa0328",
   "metadata": {},
   "source": [
    "# impotando as tabelas acima para .csv"
   ]
  },
  {
   "cell_type": "code",
   "execution_count": null,
   "id": "eb10baa9",
   "metadata": {},
   "outputs": [],
   "source": [
    "#escrevendo um arquivo com os dados selecionados \n",
    "filter_df.to_csv(\"masculino_todos_grupos.csv\")"
   ]
  },
  {
   "cell_type": "code",
   "execution_count": null,
   "id": "da5a1cd2",
   "metadata": {},
   "outputs": [],
   "source": [
    "#escrevendo um arquivo com os dados selecionados \n",
    "filter_df1.to_csv(\"feminino_todos_grupos.csv\")"
   ]
  },
  {
   "cell_type": "code",
   "execution_count": null,
   "id": "8c4a17ee",
   "metadata": {},
   "outputs": [],
   "source": []
  },
  {
   "cell_type": "code",
   "execution_count": null,
   "id": "fec49c5d",
   "metadata": {},
   "outputs": [],
   "source": []
  },
  {
   "cell_type": "code",
   "execution_count": null,
   "id": "2f193b68",
   "metadata": {},
   "outputs": [],
   "source": []
  }
 ],
 "metadata": {
  "kernelspec": {
   "display_name": "Python 3 (ipykernel)",
   "language": "python",
   "name": "python3"
  },
  "language_info": {
   "codemirror_mode": {
    "name": "ipython",
    "version": 3
   },
   "file_extension": ".py",
   "mimetype": "text/x-python",
   "name": "python",
   "nbconvert_exporter": "python",
   "pygments_lexer": "ipython3",
   "version": "3.10.2"
  }
 },
 "nbformat": 4,
 "nbformat_minor": 5
}
