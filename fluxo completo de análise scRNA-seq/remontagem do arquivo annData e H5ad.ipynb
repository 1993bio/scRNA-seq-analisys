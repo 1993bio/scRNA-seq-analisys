{
 "cells": [
  {
   "cell_type": "code",
   "execution_count": null,
   "metadata": {},
   "outputs": [],
   "source": [
    "import numpy as np\n",
    "import pandas as pd\n",
    "import matplotlib.pyplot as plt\n",
    "from multiprocessing import Pool\n",
    "import warnings\n",
    "warnings.filterwarnings(\"ignore\")\n",
    "import multiprocessing as mp\n",
    "import time"
   ]
  },
  {
   "cell_type": "code",
   "execution_count": null,
   "metadata": {},
   "outputs": [],
   "source": [
    "# lendo o arquivo csv que contem as contagens, \n",
    "#códigos das células(cell barcodes) sempre deve ser o indice para bater com o indice de contagens!\n",
    "# usar a primeira coluna para rotular como o \"indice\"\n",
    "\n",
    "\n",
    "# contando o tempo de carregamento dos dados particionados\n",
    "s_time_chunk = time.time()\n",
    "chunk = pd.read_csv('contagens_final_ziegler_22.csv', chunksize=1000, index_col = 1)\n",
    "e_time_chunk = time.time()\n",
    "  \n",
    "print(\"With chunks: \", (e_time_chunk-s_time_chunk), \"sec\")\n",
    "contagens = pd.concat(chunk)\n",
    "  \n",
    "# mostrando os dados \n",
    "contagens"
   ]
  },
  {
   "cell_type": "code",
   "execution_count": null,
   "metadata": {},
   "outputs": [],
   "source": [
    "# delete colunas que não fazem parte dos dados (colunas abaixo são criadas ao exportar um dataframe)\n",
    "# Você pode evitar isso em primeiro lugar usando index=Falsese no CSV de saída, quando foi exportado em pandas.\n",
    "del contagens['Unnamed: 0']\n",
    "del contagens['Unnamed: 0.1']"
   ]
  },
  {
   "cell_type": "code",
   "execution_count": null,
   "metadata": {},
   "outputs": [],
   "source": [
    "contagens.head(5)"
   ]
  },
  {
   "cell_type": "code",
   "execution_count": null,
   "metadata": {},
   "outputs": [],
   "source": []
  },
  {
   "cell_type": "code",
   "execution_count": null,
   "metadata": {},
   "outputs": [],
   "source": [
    "print(contagens.shape)"
   ]
  },
  {
   "cell_type": "code",
   "execution_count": null,
   "metadata": {},
   "outputs": [],
   "source": [
    "#carregando os metadados\n",
    "# cell barcodes deve estar como indice das linhas para bater com os indices das contagens\n",
    "\n",
    "# carregando os dados em partes\n",
    "s_time_chunk = time.time()\n",
    "chunk = pd.read_csv('metadados_fianal_ziegler_2.csv', chunksize=1000, index_col = 1)\n",
    "e_time_chunk = time.time()\n",
    "  \n",
    "print(\"With chunks: \", (e_time_chunk-s_time_chunk), \"sec\")\n",
    "metadata = pd.concat(chunk)\n",
    "  \n",
    "# mostrando os dados\n",
    "metadata"
   ]
  },
  {
   "cell_type": "code",
   "execution_count": null,
   "metadata": {},
   "outputs": [],
   "source": [
    "del metadata['Unnamed: 0'] # deletando colunas desnecessarias obs: adicionar del para outras variaveis"
   ]
  },
  {
   "cell_type": "code",
   "execution_count": null,
   "metadata": {},
   "outputs": [],
   "source": [
    "metadata.head(5) # verificando o dataframe"
   ]
  },
  {
   "cell_type": "code",
   "execution_count": null,
   "metadata": {},
   "outputs": [],
   "source": []
  },
  {
   "cell_type": "code",
   "execution_count": null,
   "metadata": {},
   "outputs": [],
   "source": [
    "print(metadata.shape) # verificando o tamanho do data frame"
   ]
  },
  {
   "cell_type": "code",
   "execution_count": null,
   "metadata": {},
   "outputs": [],
   "source": [
    "#adicionando uma coluna de indices ao metadados"
   ]
  },
  {
   "cell_type": "code",
   "execution_count": null,
   "metadata": {},
   "outputs": [],
   "source": [
    "# verificador de caracteristicas\n",
    "print(pd.value_counts(metadata['SARSCoV2_PCR_Status'])) # use variaveis presentes nos metadados \n"
   ]
  },
  {
   "cell_type": "code",
   "execution_count": null,
   "metadata": {},
   "outputs": [],
   "source": [
    "# Visão geral dos dados\n",
    "for column in metadata.columns.values:\n",
    "    print(pd.value_counts(metadata[column]))"
   ]
  },
  {
   "cell_type": "code",
   "execution_count": null,
   "metadata": {},
   "outputs": [],
   "source": [
    "import scanpy as sc # importando o scanpy\n",
    "import anndata as ad"
   ]
  },
  {
   "cell_type": "code",
   "execution_count": null,
   "metadata": {},
   "outputs": [],
   "source": [
    "#criando o anndata para criar o H5AD\n",
    "adata = sc.AnnData(X = contagens, obs = metadata) # aqui atribuimos os valores aos espaço reservado dentro do anndata como uma variavel adata.\n",
    "print(adata)"
   ]
  },
  {
   "cell_type": "code",
   "execution_count": null,
   "metadata": {},
   "outputs": [],
   "source": [
    "# criando o H5AD\n",
    "adata.write ('Ziegler_final_2.h5ad')  ## a extensão h5ad é específica de AnnData\n"
   ]
  },
  {
   "cell_type": "code",
   "execution_count": null,
   "metadata": {},
   "outputs": [],
   "source": []
  }
 ],
 "metadata": {
  "kernelspec": {
   "display_name": "Python 3 (ipykernel)",
   "language": "python",
   "name": "python3"
  },
  "language_info": {
   "codemirror_mode": {
    "name": "ipython",
    "version": 3
   },
   "file_extension": ".py",
   "mimetype": "text/x-python",
   "name": "python",
   "nbconvert_exporter": "python",
   "pygments_lexer": "ipython3",
   "version": "3.10.2"
  }
 },
 "nbformat": 4,
 "nbformat_minor": 4
}
