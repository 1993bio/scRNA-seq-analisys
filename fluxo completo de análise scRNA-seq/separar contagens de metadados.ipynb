{
 "cells": [
  {
   "cell_type": "code",
   "execution_count": null,
   "id": "58b4d570",
   "metadata": {},
   "outputs": [],
   "source": [
    "import numpy as np\n",
    "import pandas as pd\n",
    "import matplotlib.pyplot as plt\n",
    "from multiprocessing import Pool\n",
    "import warnings\n",
    "warnings.filterwarnings(\"ignore\")\n",
    "import multiprocessing as mp\n",
    "import time"
   ]
  },
  {
   "cell_type": "code",
   "execution_count": null,
   "id": "9947bdaf",
   "metadata": {},
   "outputs": [],
   "source": [
    "# carregando os dados em partes\n",
    "s_time_chunk = time.time()\n",
    "chunk = pd.read_csv('Tabela_final_Ziegler_2.csv', chunksize=2000)\n",
    "e_time_chunk = time.time()\n",
    "  \n",
    "print(\"With chunks: \", (e_time_chunk-s_time_chunk), \"sec\")\n",
    "df = pd.concat(chunk)\n",
    "  \n",
    "# dados \n",
    "df"
   ]
  },
  {
   "cell_type": "code",
   "execution_count": null,
   "id": "9d3fd420",
   "metadata": {},
   "outputs": [],
   "source": [
    "# trocando nomes de variaveis no dataframe\n",
    "df[\"sex\"].replace({\"male\": \"M\", \"female\": \"F\"}, inplace=True) # trocando valores de um indice de uma coluna\n",
    "df[\"Cohort_Disease_WHO_Score\"].replace({\"ConvalescentCOVID19_WHO_0\": \"Convalescente\", \"Control_WHO_8\": \"Ctrl_WHO_8\", 'Control_WHO_0':'Ctrl_WHO_0'}, inplace=True) # trocando valores de um indice de uma coluna"
   ]
  },
  {
   "cell_type": "code",
   "execution_count": null,
   "id": "f2130f03",
   "metadata": {},
   "outputs": [],
   "source": [
    "del df['Unnamed: 0_y'] # deletando uma coluna criada na exprtação do aquivo .csv\n",
    "df"
   ]
  },
  {
   "cell_type": "markdown",
   "id": "7285c26e",
   "metadata": {},
   "source": [
    "# Crianção da tabel de anotações filtradas por categorias"
   ]
  },
  {
   "cell_type": "code",
   "execution_count": null,
   "id": "4c4a59e8",
   "metadata": {},
   "outputs": [],
   "source": [
    "metadados = df.loc[:, 'CELL_BARCODES':'Annotation'] # selecionando as colunas referentes as anotações dos dados\n",
    "metadados"
   ]
  },
  {
   "cell_type": "code",
   "execution_count": null,
   "id": "b336d123",
   "metadata": {},
   "outputs": [],
   "source": [
    "metadados.to_csv('metadados_fianal_ziegler_2.csv')"
   ]
  },
  {
   "cell_type": "code",
   "execution_count": null,
   "id": "812949f6",
   "metadata": {},
   "outputs": [],
   "source": []
  },
  {
   "cell_type": "markdown",
   "id": "ffb84d5d",
   "metadata": {},
   "source": [
    "# Abaixo, criação da tabela de contagens filtrada por categorias"
   ]
  },
  {
   "cell_type": "code",
   "execution_count": null,
   "id": "e7997eaf",
   "metadata": {},
   "outputs": [],
   "source": [
    "contagens = df.loc[:, 'A1BG':'ZZEF1'] # selecionando as colunas referentes as contagens de genes e os cell barcodes\n",
    "#contagens.rename(columns = {'CELL_BARCODES.1':'CELL_BARCODES'}, inplace = True) #renomeando a primeira coluna\n",
    "contagens"
   ]
  },
  {
   "cell_type": "code",
   "execution_count": null,
   "id": "8ca395c8",
   "metadata": {},
   "outputs": [],
   "source": [
    "#tranformando contagens float em inteiro, somente para dados não normalizados\n",
    "contagens = contagens.astype(int)"
   ]
  },
  {
   "cell_type": "code",
   "execution_count": null,
   "id": "3a834d5c",
   "metadata": {},
   "outputs": [],
   "source": [
    "contagens"
   ]
  },
  {
   "cell_type": "code",
   "execution_count": null,
   "id": "607ec20a",
   "metadata": {},
   "outputs": [],
   "source": [
    "contagens.to_csv('contagens_final_ziegler_2.csv')"
   ]
  },
  {
   "cell_type": "code",
   "execution_count": null,
   "id": "46cc4023",
   "metadata": {},
   "outputs": [],
   "source": []
  }
 ],
 "metadata": {
  "kernelspec": {
   "display_name": "Python 3 (ipykernel)",
   "language": "python",
   "name": "python3"
  },
  "language_info": {
   "codemirror_mode": {
    "name": "ipython",
    "version": 3
   },
   "file_extension": ".py",
   "mimetype": "text/x-python",
   "name": "python",
   "nbconvert_exporter": "python",
   "pygments_lexer": "ipython3",
   "version": "3.10.2"
  }
 },
 "nbformat": 4,
 "nbformat_minor": 5
}
