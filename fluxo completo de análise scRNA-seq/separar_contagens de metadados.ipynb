{
 "cells": [
  {
   "cell_type": "code",
   "execution_count": null,
   "id": "58b4d570",
   "metadata": {},
   "outputs": [],
   "source": [
    "import numpy as np\n",
    "import pandas as pd\n",
    "import matplotlib.pyplot as plt"
   ]
  },
  {
   "cell_type": "code",
   "execution_count": null,
   "id": "9947bdaf",
   "metadata": {},
   "outputs": [],
   "source": [
    "df = pd.read_csv('ziegler_pacientes-masculino_neg_Convalescentes.csv') # lendo a tabela csv."
   ]
  },
  {
   "cell_type": "code",
   "execution_count": null,
   "id": "9d3fd420",
   "metadata": {},
   "outputs": [],
   "source": [
    "df"
   ]
  },
  {
   "cell_type": "code",
   "execution_count": null,
   "id": "f2130f03",
   "metadata": {},
   "outputs": [],
   "source": [
    "df= df.drop(columns=['Unnamed: 0']) # comando para eliminar uma coluna de indices duplicadas com o nome de ('Unnamed: 0', 'Unnamed: 0.2)\n",
    "df"
   ]
  },
  {
   "cell_type": "markdown",
   "id": "7285c26e",
   "metadata": {},
   "source": [
    "# Crianção da tabel de anotações filtradas por categorias"
   ]
  },
  {
   "cell_type": "code",
   "execution_count": null,
   "id": "4c4a59e8",
   "metadata": {},
   "outputs": [],
   "source": [
    "metadados = df.loc[:, 'CELL_BARCODES':'Annotation'] # selecionando as colunas referentes as anotações dos dados\n",
    "metadados"
   ]
  },
  {
   "cell_type": "code",
   "execution_count": null,
   "id": "b336d123",
   "metadata": {},
   "outputs": [],
   "source": [
    "metadados.to_csv('metadados_pacientes-masculino_neg_convalescentes.csv')"
   ]
  },
  {
   "cell_type": "markdown",
   "id": "ffb84d5d",
   "metadata": {},
   "source": [
    "# Abaixo, criação da tabela de contagens filtrada por categorias"
   ]
  },
  {
   "cell_type": "code",
   "execution_count": null,
   "id": "e7997eaf",
   "metadata": {},
   "outputs": [],
   "source": [
    "contagens = df.loc[:, 'CELL_BARCODES.1':'ZZEF1'] # selecionando as colunas referentes as contagens de genes e os cell barcodes\n",
    "contagens"
   ]
  },
  {
   "cell_type": "code",
   "execution_count": null,
   "id": "607ec20a",
   "metadata": {},
   "outputs": [],
   "source": [
    "contagens.to_csv('contagens_pacientes-masculino_neg_convalescentes.csv')"
   ]
  },
  {
   "cell_type": "code",
   "execution_count": null,
   "id": "46cc4023",
   "metadata": {},
   "outputs": [],
   "source": []
  }
 ],
 "metadata": {
  "kernelspec": {
   "display_name": "Python 3 (ipykernel)",
   "language": "python",
   "name": "python3"
  },
  "language_info": {
   "codemirror_mode": {
    "name": "ipython",
    "version": 3
   },
   "file_extension": ".py",
   "mimetype": "text/x-python",
   "name": "python",
   "nbconvert_exporter": "python",
   "pygments_lexer": "ipython3",
   "version": "3.10.2"
  }
 },
 "nbformat": 4,
 "nbformat_minor": 5
}
