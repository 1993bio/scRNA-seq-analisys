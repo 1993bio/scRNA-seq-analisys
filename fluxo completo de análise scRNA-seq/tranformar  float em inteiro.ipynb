{
 "cells": [
  {
   "cell_type": "code",
   "execution_count": null,
   "id": "06a7feec",
   "metadata": {},
   "outputs": [],
   "source": [
    "import numpy as np\n",
    "import pandas as pd"
   ]
  },
  {
   "cell_type": "code",
   "execution_count": null,
   "id": "95e5bae5",
   "metadata": {},
   "outputs": [],
   "source": [
    "df=pd.read_csv('ziegler_pacientes-masculino_pos_WHO_1-5.csv') # lendo a tabela que possui dados com ponto flutuante"
   ]
  },
  {
   "cell_type": "code",
   "execution_count": null,
   "id": "d71e941c",
   "metadata": {},
   "outputs": [],
   "source": [
    "df.tail() # mostrando o fina lda tabela"
   ]
  },
  {
   "cell_type": "code",
   "execution_count": null,
   "id": "64aed99c",
   "metadata": {},
   "outputs": [],
   "source": [
    "df.dtypes # vrificamos o tipo dos objetos se é float ou int"
   ]
  },
  {
   "cell_type": "code",
   "execution_count": null,
   "id": "480c03a6",
   "metadata": {},
   "outputs": [],
   "source": [
    "df.columns"
   ]
  },
  {
   "cell_type": "code",
   "execution_count": null,
   "id": "eecd7845",
   "metadata": {},
   "outputs": [],
   "source": [
    "df.iloc[:,3:20] = df.iloc[:,3:20].values.astype(np.int64) # dentro dos conchetes indicar o intervalo de colunas para serem tranformadas\n"
   ]
  },
  {
   "cell_type": "code",
   "execution_count": null,
   "id": "0bbdd291",
   "metadata": {},
   "outputs": [],
   "source": [
    "df"
   ]
  },
  {
   "cell_type": "code",
   "execution_count": null,
   "id": "30409f60",
   "metadata": {},
   "outputs": [],
   "source": [
    "df.to_csv('counts_inteiros_ml.csv') # exportando os dados para .csv"
   ]
  },
  {
   "cell_type": "code",
   "execution_count": null,
   "id": "e682c87f",
   "metadata": {},
   "outputs": [],
   "source": []
  }
 ],
 "metadata": {
  "kernelspec": {
   "display_name": "Python 3 (ipykernel)",
   "language": "python",
   "name": "python3"
  },
  "language_info": {
   "codemirror_mode": {
    "name": "ipython",
    "version": 3
   },
   "file_extension": ".py",
   "mimetype": "text/x-python",
   "name": "python",
   "nbconvert_exporter": "python",
   "pygments_lexer": "ipython3",
   "version": "3.10.2"
  }
 },
 "nbformat": 4,
 "nbformat_minor": 5
}
