{
 "cells": [
  {
   "cell_type": "code",
   "execution_count": null,
   "id": "f9c1620d",
   "metadata": {},
   "outputs": [],
   "source": [
    "import pandas as pd\n",
    "import numpy as np"
   ]
  },
  {
   "cell_type": "code",
   "execution_count": null,
   "id": "81f9275b",
   "metadata": {},
   "outputs": [],
   "source": [
    "dados=pd.read_csv('patient_raw_counts.csv', sep= ',', header= None, index_col = 0).T  # os dados ja são carregados e transposto na memória"
   ]
  },
  {
   "cell_type": "code",
   "execution_count": null,
   "id": "0a4d40db",
   "metadata": {},
   "outputs": [],
   "source": [
    "dados # mostrando os dados"
   ]
  },
  {
   "cell_type": "code",
   "execution_count": null,
   "id": "ea4e7ff7",
   "metadata": {},
   "outputs": [],
   "source": [
    "dados.to_csv('counts_transpose.csv') # exportando os dados, usar index false para não escrever a coluna de indice mais de uma vez nos dados"
   ]
  },
  {
   "cell_type": "code",
   "execution_count": null,
   "id": "54f47b0a",
   "metadata": {},
   "outputs": [],
   "source": []
  }
 ],
 "metadata": {
  "kernelspec": {
   "display_name": "Python 3 (ipykernel)",
   "language": "python",
   "name": "python3"
  },
  "language_info": {
   "codemirror_mode": {
    "name": "ipython",
    "version": 3
   },
   "file_extension": ".py",
   "mimetype": "text/x-python",
   "name": "python",
   "nbconvert_exporter": "python",
   "pygments_lexer": "ipython3",
   "version": "3.10.2"
  }
 },
 "nbformat": 4,
 "nbformat_minor": 5
}
